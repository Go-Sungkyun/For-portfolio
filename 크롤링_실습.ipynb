{
  "nbformat": 4,
  "nbformat_minor": 0,
  "metadata": {
    "colab": {
      "name": "크롤링 실습.ipynb",
      "provenance": [],
      "collapsed_sections": [],
      "authorship_tag": "ABX9TyOSnitWpPEQBa7ikUqQ0t68",
      "include_colab_link": true
    },
    "kernelspec": {
      "name": "python3",
      "display_name": "Python 3"
    }
  },
  "cells": [
    {
      "cell_type": "markdown",
      "metadata": {
        "id": "view-in-github",
        "colab_type": "text"
      },
      "source": [
        "<a href=\"https://colab.research.google.com/github/Go-Sungkyun/For-portfolio/blob/main/%ED%81%AC%EB%A1%A4%EB%A7%81_%EC%8B%A4%EC%8A%B5.ipynb\" target=\"_parent\"><img src=\"https://colab.research.google.com/assets/colab-badge.svg\" alt=\"Open In Colab\"/></a>"
      ]
    },
    {
      "cell_type": "markdown",
      "metadata": {
        "id": "KBGPENSS_T6G"
      },
      "source": [
        "# Crawling"
      ]
    },
    {
      "cell_type": "markdown",
      "metadata": {
        "id": "iDe27LCJ_ATg"
      },
      "source": [
        "구름EDU의 30분 요약 시리즈 python의 크롤링 편 연습 및 정리\r\n"
      ]
    },
    {
      "cell_type": "code",
      "metadata": {
        "id": "fm5DKkikAuH5"
      },
      "source": [
        "!pip3 install BeautifulSoup4 \r\n",
        "!pip3 install requests"
      ],
      "execution_count": null,
      "outputs": []
    },
    {
      "cell_type": "code",
      "metadata": {
        "id": "ocrZ3EEs-37t"
      },
      "source": [
        "import bs4 \r\n",
        "import requests"
      ],
      "execution_count": 5,
      "outputs": []
    },
    {
      "cell_type": "code",
      "metadata": {
        "colab": {
          "base_uri": "https://localhost:8080/",
          "height": 35
        },
        "id": "3ihRJ1Rv-_jW",
        "outputId": "3025cf86-1e7e-4adb-9186-b5586c5ffff1"
      },
      "source": [
        "# 버젼 확인\r\n",
        "requests.__version__"
      ],
      "execution_count": 6,
      "outputs": [
        {
          "output_type": "execute_result",
          "data": {
            "application/vnd.google.colaboratory.intrinsic+json": {
              "type": "string"
            },
            "text/plain": [
              "'2.23.0'"
            ]
          },
          "metadata": {
            "tags": []
          },
          "execution_count": 6
        }
      ]
    },
    {
      "cell_type": "code",
      "metadata": {
        "colab": {
          "base_uri": "https://localhost:8080/",
          "height": 35
        },
        "id": "i-rRdx6Z-_lS",
        "outputId": "dfcf5961-de82-4151-976a-364a543cb313"
      },
      "source": [
        "bs4.__version__ "
      ],
      "execution_count": 7,
      "outputs": [
        {
          "output_type": "execute_result",
          "data": {
            "application/vnd.google.colaboratory.intrinsic+json": {
              "type": "string"
            },
            "text/plain": [
              "'4.6.3'"
            ]
          },
          "metadata": {
            "tags": []
          },
          "execution_count": 7
        }
      ]
    },
    {
      "cell_type": "markdown",
      "metadata": {
        "id": "nURGqjHaBgoS"
      },
      "source": [
        "### requests"
      ]
    },
    {
      "cell_type": "code",
      "metadata": {
        "colab": {
          "base_uri": "https://localhost:8080/"
        },
        "id": "3_Un7a1--_nV",
        "outputId": "3ab54961-2ea5-4724-9b11-cb2c45d6016c"
      },
      "source": [
        "# 크롤링 연습용 페이지\r\n",
        "html = requests.get('http://www.paullab.co.kr/stock.html')\r\n",
        "html"
      ],
      "execution_count": 14,
      "outputs": [
        {
          "output_type": "execute_result",
          "data": {
            "text/plain": [
              "<Response [200]>"
            ]
          },
          "metadata": {
            "tags": []
          },
          "execution_count": 14
        }
      ]
    },
    {
      "cell_type": "markdown",
      "metadata": {
        "id": "D1U8qIouBq-I"
      },
      "source": [
        "Response 200은 성공을 의미"
      ]
    },
    {
      "cell_type": "code",
      "metadata": {
        "colab": {
          "base_uri": "https://localhost:8080/",
          "height": 341
        },
        "id": "6HkvyTHA-_pV",
        "outputId": "bccd3cf3-037f-4808-97da-0fbfd8291034"
      },
      "source": [
        "html.text"
      ],
      "execution_count": 15,
      "outputs": [
        {
          "output_type": "execute_result",
          "data": {
            "application/vnd.google.colaboratory.intrinsic+json": {
              "type": "string"
            },
            "text/plain": [
              "'<html xmlns=\"http://www.w3.org/1999/xhtml\" xml:lang=\"ko\" lang=\"ko\"><head><meta http-equiv=\"Content-Type\" content=\"text/html; charset=utf-8\" /><style type=\"text/css\">body { width:100%; height:100%; } .wrap { position:fixed; top:50%; left:50%; margin:-185px 0 0 -315px; width:630px; height:370px; } h1 {margin: 0 0 20px; font-size: 15pt;}</style></head><body><script type=\"text/javascript\" src=\"/cupid.js\" ></script><script>function toNumbers(t){var e=[];return t.replace(/(..)/g,function(t){e.push(parseInt(t,16))}),e}function toHex(){for(var t=[],t=1==arguments.length&&arguments[0].constructor==Array?arguments[0]:arguments,e=\"\",o=0;o<t.length;o++)e+=(16>t[o]?\"0\":\"\")+t[o].toString(16);return e.toLowerCase()}function getUrlParams(){var t={};return window.location.search.replace(/[?&]+([^=&]+)=([^&]*)/gi,function(e,o,r){t[o]=r}),t}var a=toNumbers(\"8e60689b47fb42cbc6bb0a8743ec36c5\"),b=toNumbers(\"cfbee3827ce1fc8a7c8eda635187dfa0\"),c=toNumbers(\"5d6a2f942b97495d741303325d69cff4\"),now=new Date,time=now.getTime();time+=864e5,now.setTime(time),document.cookie=\"CUPID=\"+toHex(slowAES.decrypt(c,2,a,b))+\"; expires=\"+now.toUTCString()+\"; path=/\",oParams=getUrlParams(),nCkattempt=0,oParams.ckattempt&&(nCkattempt=parseInt(oParams.ckattempt)),nCkattempt<3&&(location.href=\"http://www.paullab.co.kr/stock.html?ckattempt=1\");</script><div class=\"wrap\"><div align=\"center\"><h1>ì\\x9e\\x90ë\\x8f\\x99ë\\x93±ë¡\\x9dë°©ì§\\x80ë¥¼ ì\\x9c\\x84í\\x95´ ë³´ì\\x95\\x88ì\\xa0\\x88ì°¨ë¥¼ ê±°ì¹\\x98ê³\\xa0 ì\\x9e\\x88ì\\x8aµë\\x8b\\x88ë\\x8b¤.</h1><p>Please prove that you are human.</p><form action=\"/___verify\" method=\"POST\"><input type=\"submit\" value=\"  OK  \"></form></div></div></body></html>'"
            ]
          },
          "metadata": {
            "tags": []
          },
          "execution_count": 15
        }
      ]
    },
    {
      "cell_type": "markdown",
      "metadata": {
        "id": "WFMYAzD5Bzim"
      },
      "source": [
        "한국어가 죄다 깨져서 나오는 것을 확인 가능. "
      ]
    },
    {
      "cell_type": "code",
      "metadata": {
        "colab": {
          "base_uri": "https://localhost:8080/"
        },
        "id": "ZyB1RPI6-_rO",
        "outputId": "7e54d86d-dc6b-4b2c-d5e2-fc40200d7b59"
      },
      "source": [
        "html.headers"
      ],
      "execution_count": 16,
      "outputs": [
        {
          "output_type": "execute_result",
          "data": {
            "text/plain": [
              "{'Server': 'nginx', 'Date': 'Tue, 12 Jan 2021 09:59:57 GMT', 'Content-Type': 'text/html', 'Transfer-Encoding': 'chunked', 'Connection': 'keep-alive', 'Vary': 'Accept-Encoding', 'Expires': 'Thu, 01 Jan 1970 00:00:01 GMT', 'Cache-Control': 'no-cache', 'Content-Encoding': 'gzip'}"
            ]
          },
          "metadata": {
            "tags": []
          },
          "execution_count": 16
        }
      ]
    },
    {
      "cell_type": "markdown",
      "metadata": {
        "id": "Ej3I9WKFB5Aq"
      },
      "source": [
        "hearders를 통해 서버 종류, 시간, 인코딩 정보 등이 저장되어 있다.\r\n",
        "해킹에도 사용 가능."
      ]
    },
    {
      "cell_type": "code",
      "metadata": {
        "colab": {
          "base_uri": "https://localhost:8080/",
          "height": 35
        },
        "id": "ioDouDIUB45b",
        "outputId": "c0e92e84-2ad9-4a4e-a71c-29249a657b61"
      },
      "source": [
        "html.encoding"
      ],
      "execution_count": 17,
      "outputs": [
        {
          "output_type": "execute_result",
          "data": {
            "application/vnd.google.colaboratory.intrinsic+json": {
              "type": "string"
            },
            "text/plain": [
              "'ISO-8859-1'"
            ]
          },
          "metadata": {
            "tags": []
          },
          "execution_count": 17
        }
      ]
    },
    {
      "cell_type": "code",
      "metadata": {
        "id": "wuay7mBaB43k"
      },
      "source": [
        "html.encoding = 'utf-8'"
      ],
      "execution_count": 18,
      "outputs": []
    },
    {
      "cell_type": "code",
      "metadata": {
        "colab": {
          "base_uri": "https://localhost:8080/",
          "height": 323
        },
        "id": "7AblySbGB41p",
        "outputId": "0352bfb2-02eb-4eb3-9574-fc72b245a178"
      },
      "source": [
        "html.text"
      ],
      "execution_count": 19,
      "outputs": [
        {
          "output_type": "execute_result",
          "data": {
            "application/vnd.google.colaboratory.intrinsic+json": {
              "type": "string"
            },
            "text/plain": [
              "'<html xmlns=\"http://www.w3.org/1999/xhtml\" xml:lang=\"ko\" lang=\"ko\"><head><meta http-equiv=\"Content-Type\" content=\"text/html; charset=utf-8\" /><style type=\"text/css\">body { width:100%; height:100%; } .wrap { position:fixed; top:50%; left:50%; margin:-185px 0 0 -315px; width:630px; height:370px; } h1 {margin: 0 0 20px; font-size: 15pt;}</style></head><body><script type=\"text/javascript\" src=\"/cupid.js\" ></script><script>function toNumbers(t){var e=[];return t.replace(/(..)/g,function(t){e.push(parseInt(t,16))}),e}function toHex(){for(var t=[],t=1==arguments.length&&arguments[0].constructor==Array?arguments[0]:arguments,e=\"\",o=0;o<t.length;o++)e+=(16>t[o]?\"0\":\"\")+t[o].toString(16);return e.toLowerCase()}function getUrlParams(){var t={};return window.location.search.replace(/[?&]+([^=&]+)=([^&]*)/gi,function(e,o,r){t[o]=r}),t}var a=toNumbers(\"8e60689b47fb42cbc6bb0a8743ec36c5\"),b=toNumbers(\"cfbee3827ce1fc8a7c8eda635187dfa0\"),c=toNumbers(\"5d6a2f942b97495d741303325d69cff4\"),now=new Date,time=now.getTime();time+=864e5,now.setTime(time),document.cookie=\"CUPID=\"+toHex(slowAES.decrypt(c,2,a,b))+\"; expires=\"+now.toUTCString()+\"; path=/\",oParams=getUrlParams(),nCkattempt=0,oParams.ckattempt&&(nCkattempt=parseInt(oParams.ckattempt)),nCkattempt<3&&(location.href=\"http://www.paullab.co.kr/stock.html?ckattempt=1\");</script><div class=\"wrap\"><div align=\"center\"><h1>자동등록방지를 위해 보안절차를 거치고 있습니다.</h1><p>Please prove that you are human.</p><form action=\"/___verify\" method=\"POST\"><input type=\"submit\" value=\"  OK  \"></form></div></div></body></html>'"
            ]
          },
          "metadata": {
            "tags": []
          },
          "execution_count": 19
        }
      ]
    },
    {
      "cell_type": "markdown",
      "metadata": {
        "id": "PiXkJhpOCPJg"
      },
      "source": [
        "인코딩 확인 후 utf-8로 변경해줌으로써 한글 깨짐 문제를 해결."
      ]
    },
    {
      "cell_type": "code",
      "metadata": {
        "colab": {
          "base_uri": "https://localhost:8080/"
        },
        "id": "fcproiooB4za",
        "outputId": "82179391-99cb-4e6b-95d0-2ff93585e3c6"
      },
      "source": [
        "html.status_code"
      ],
      "execution_count": 20,
      "outputs": [
        {
          "output_type": "execute_result",
          "data": {
            "text/plain": [
              "200"
            ]
          },
          "metadata": {
            "tags": []
          },
          "execution_count": 20
        }
      ]
    },
    {
      "cell_type": "code",
      "metadata": {
        "colab": {
          "base_uri": "https://localhost:8080/"
        },
        "id": "kv6CPcPTB4xR",
        "outputId": "859bbd5f-169c-4d03-821e-59e36842d514"
      },
      "source": [
        "html.ok"
      ],
      "execution_count": 21,
      "outputs": [
        {
          "output_type": "execute_result",
          "data": {
            "text/plain": [
              "True"
            ]
          },
          "metadata": {
            "tags": []
          },
          "execution_count": 21
        }
      ]
    },
    {
      "cell_type": "markdown",
      "metadata": {
        "id": "0NajBk3hClo6"
      },
      "source": [
        "status_code랑 ok 함수로 불러오기가 성공했는지 알 수 있다."
      ]
    },
    {
      "cell_type": "code",
      "metadata": {
        "colab": {
          "base_uri": "https://localhost:8080/"
        },
        "id": "eDIytzHLClh4",
        "outputId": "e57b7ec9-9d4f-4ad5-c906-70bf79bf4290"
      },
      "source": [
        "import requests\r\n",
        "from bs4 import BeautifulSoup\r\n",
        "\r\n",
        "response = requests.get('http://www.paullab.co.kr/stock.html')\r\n",
        "response.encoding = 'utf-8'\r\n",
        "html = response.text\r\n",
        "\r\n",
        "soup = BeautifulSoup(html,'html.parser')\r\n",
        "\r\n",
        "print(soup.prettify())"
      ],
      "execution_count": 23,
      "outputs": [
        {
          "output_type": "stream",
          "text": [
            "<html lang=\"ko\" xml:lang=\"ko\" xmlns=\"http://www.w3.org/1999/xhtml\">\n",
            " <head>\n",
            "  <meta content=\"text/html; charset=utf-8\" http-equiv=\"Content-Type\"/>\n",
            "  <style type=\"text/css\">\n",
            "   body { width:100%; height:100%; } .wrap { position:fixed; top:50%; left:50%; margin:-185px 0 0 -315px; width:630px; height:370px; } h1 {margin: 0 0 20px; font-size: 15pt;}\n",
            "  </style>\n",
            " </head>\n",
            " <body>\n",
            "  <script src=\"/cupid.js\" type=\"text/javascript\">\n",
            "  </script>\n",
            "  <script>\n",
            "   function toNumbers(t){var e=[];return t.replace(/(..)/g,function(t){e.push(parseInt(t,16))}),e}function toHex(){for(var t=[],t=1==arguments.length&&arguments[0].constructor==Array?arguments[0]:arguments,e=\"\",o=0;o<t.length;o++)e+=(16>t[o]?\"0\":\"\")+t[o].toString(16);return e.toLowerCase()}function getUrlParams(){var t={};return window.location.search.replace(/[?&]+([^=&]+)=([^&]*)/gi,function(e,o,r){t[o]=r}),t}var a=toNumbers(\"91834575c02c798fbebf294c2e6f4f13\"),b=toNumbers(\"0f22e295073cbec585f39d70b7e5b3ed\"),c=toNumbers(\"618d5903de35eaf9d2aa55598a37eba8\"),now=new Date,time=now.getTime();time+=864e5,now.setTime(time),document.cookie=\"CUPID=\"+toHex(slowAES.decrypt(c,2,a,b))+\"; expires=\"+now.toUTCString()+\"; path=/\",oParams=getUrlParams(),nCkattempt=0,oParams.ckattempt&&(nCkattempt=parseInt(oParams.ckattempt)),nCkattempt<3&&(location.href=\"http://www.paullab.co.kr/stock.html?ckattempt=1\");\n",
            "  </script>\n",
            "  <div class=\"wrap\">\n",
            "   <div align=\"center\">\n",
            "    <h1>\n",
            "     자동등록방지를 위해 보안절차를 거치고 있습니다.\n",
            "    </h1>\n",
            "    <p>\n",
            "     Please prove that you are human.\n",
            "    </p>\n",
            "    <form action=\"/___verify\" method=\"POST\">\n",
            "     <input type=\"submit\" value=\"  OK  \"/>\n",
            "    </form>\n",
            "   </div>\n",
            "  </div>\n",
            " </body>\n",
            "</html>\n"
          ],
          "name": "stdout"
        }
      ]
    },
    {
      "cell_type": "markdown",
      "metadata": {
        "id": "f3gs-tDTDXuV"
      },
      "source": [
        "위 코드를 사용 시 html 문서 형식에 맞게, 가시성 좋게 출력할 수 있음."
      ]
    },
    {
      "cell_type": "code",
      "metadata": {
        "id": "WR6gAmU3Clf-"
      },
      "source": [
        "# import requests\r\n",
        "# from bs4 import BeautifulSoup\r\n",
        "\r\n",
        "# response = requests.get('http://www.paullab.co.kr/stock.html')\r\n",
        "# response.encoding = 'utf-8'\r\n",
        "# html = response.text\r\n",
        "\r\n",
        "# 'w'는 write을 의미\r\n",
        "f = open('test.html', 'w', encoding='utf-8')\r\n",
        "f.write(html)\r\n",
        "f.close()"
      ],
      "execution_count": 25,
      "outputs": []
    },
    {
      "cell_type": "code",
      "metadata": {
        "colab": {
          "base_uri": "https://localhost:8080/"
        },
        "id": "akuAZcfnE0HG",
        "outputId": "efc4d367-e257-4455-d36f-9afd9ed0baf9"
      },
      "source": [
        "!dir"
      ],
      "execution_count": 26,
      "outputs": [
        {
          "output_type": "stream",
          "text": [
            "sample_data  test.html\n"
          ],
          "name": "stdout"
        }
      ]
    },
    {
      "cell_type": "markdown",
      "metadata": {
        "id": "jEIw6Q7oEP0g"
      },
      "source": [
        "샘플 데이터에 test.html이 추가됨.\r\n",
        "코랩 환경에서 실행하기에 내 컴퓨터에 저장이 안됨.\r\n",
        "\r\n",
        "파일을 다운받은 후, 해당 파일을 Atom 및 Visual Studio Code 등의 에디터를 이용 스크립트 분석이 가능."
      ]
    },
    {
      "cell_type": "markdown",
      "metadata": {
        "id": "PPPKjc3IHYBw"
      },
      "source": [
        "### BeautifulSoup\r\n",
        "* str 타입의 html 데이터를 html 구조를 가진 데이터로 가공해주는 라이브러리\r\n",
        "* BeautifulSoup(markup, 'html.parser')\r\n",
        "* BeautifulSoup(markup, 'lxml')\r\n",
        "* BeautifulSoup(markup, 'lxml-xml')\r\n",
        "* BeautifulSoup(markup, 'xml')\r\n",
        "* BeautifulSoup(markup, 'html5lib')"
      ]
    },
    {
      "cell_type": "markdown",
      "metadata": {
        "id": "T7_V406FKimX"
      },
      "source": [
        "http://paullab.synology.me/stock.html\r\n",
        "\r\n",
        "해외 크롤링이 금지되어 있다.(아마도 구글 코랩으로 해서 그런듯)\r\n",
        "\r\n",
        "이 경우 위의 주소로 크롤링을 연습한다. \r\n",
        "\r\n",
        "해당 사이트에 가서 `Ctrl + Shift + i` 키로 개발자 모드를 켜서`Ctrl + Shift + c`로 마우스 커서 위치의 해당하는 코드를 볼 수 있다.\r\n"
      ]
    },
    {
      "cell_type": "code",
      "metadata": {
        "id": "UxiHfv7CCleE"
      },
      "source": [
        "import requests\r\n",
        "from bs4 import BeautifulSoup\r\n",
        "\r\n",
        "response = requests.get('http://paullab.synology.me/stock.html')\r\n",
        "\r\n",
        "response.encoding = 'utf-8'\r\n",
        "html= response.text\r\n",
        "\r\n",
        "soup = BeautifulSoup(html,'html.parser')"
      ],
      "execution_count": 49,
      "outputs": []
    },
    {
      "cell_type": "code",
      "metadata": {
        "colab": {
          "base_uri": "https://localhost:8080/"
        },
        "id": "RAgAmgHKClcH",
        "outputId": "59f01e16-2736-465c-abb1-87a2c9769c45"
      },
      "source": [
        "soup.head"
      ],
      "execution_count": 46,
      "outputs": [
        {
          "output_type": "execute_result",
          "data": {
            "text/plain": [
              "<head><meta content=\"text/html; charset=utf-8\" http-equiv=\"Content-Type\"/><style type=\"text/css\">body { width:100%; height:100%; } .wrap { position:fixed; top:50%; left:50%; margin:-185px 0 0 -315px; width:630px; height:370px; } h1 {margin: 0 0 20px; font-size: 15pt;}</style></head>"
            ]
          },
          "metadata": {
            "tags": []
          },
          "execution_count": 46
        }
      ]
    },
    {
      "cell_type": "code",
      "metadata": {
        "colab": {
          "base_uri": "https://localhost:8080/"
        },
        "id": "QdkAqSQRB4vS",
        "outputId": "8fdf6a18-6d89-424a-f675-810df4f12025"
      },
      "source": [
        "soup.table"
      ],
      "execution_count": 50,
      "outputs": [
        {
          "output_type": "execute_result",
          "data": {
            "text/plain": [
              "<table class=\"border-style\" summary=\"시가총액 정보\">\n",
              "<tr>\n",
              "<th class=\"strong\" scope=\"row\">시가총액</th>\n",
              "<!-- 공백은 의도적으로 넣은 것입니다. -->\n",
              "<td class=\"strong\"><em id=\"_market_sum\">349조 2,323</em>억원</td>\n",
              "</tr>\n",
              "<tr>\n",
              "<th scope=\"row\">\n",
              "<a class=\"link_site\" href=\"#\">시가총액순위<i class=\"fas fa-caret-right\"></i></a>\n",
              "</th>\n",
              "<!-- 공백은 의도적으로 넣은 것입니다. -->\n",
              "<td>위니브월드 <em id=\"_market_sum\">1</em>위</td>\n",
              "</tr>\n",
              "<tr>\n",
              "<th scope=\"row\">상장주식수</th>\n",
              "<!-- 공백은 의도적으로 넣은 것입니다. -->\n",
              "<td><em id=\"_market_sum\">5,969,782,550</em></td>\n",
              "</tr>\n",
              "</table>"
            ]
          },
          "metadata": {
            "tags": []
          },
          "execution_count": 50
        }
      ]
    },
    {
      "cell_type": "code",
      "metadata": {
        "colab": {
          "base_uri": "https://localhost:8080/"
        },
        "id": "XoPWLZCs-_tI",
        "outputId": "41963da8-a9a2-47ed-f2a6-96e50f47c895"
      },
      "source": [
        "soup.find('title')"
      ],
      "execution_count": 51,
      "outputs": [
        {
          "output_type": "execute_result",
          "data": {
            "text/plain": [
              "<title>Document</title>"
            ]
          },
          "metadata": {
            "tags": []
          },
          "execution_count": 51
        }
      ]
    },
    {
      "cell_type": "code",
      "metadata": {
        "colab": {
          "base_uri": "https://localhost:8080/"
        },
        "id": "CMpbBdXo-_vI",
        "outputId": "8ca12407-f60c-4660-8246-1901eb742d80"
      },
      "source": [
        "# tr=tablerow\r\n",
        "soup.find('tr')"
      ],
      "execution_count": 52,
      "outputs": [
        {
          "output_type": "execute_result",
          "data": {
            "text/plain": [
              "<tr>\n",
              "<th class=\"strong\" scope=\"row\">시가총액</th>\n",
              "<!-- 공백은 의도적으로 넣은 것입니다. -->\n",
              "<td class=\"strong\"><em id=\"_market_sum\">349조 2,323</em>억원</td>\n",
              "</tr>"
            ]
          },
          "metadata": {
            "tags": []
          },
          "execution_count": 52
        }
      ]
    },
    {
      "cell_type": "code",
      "metadata": {
        "colab": {
          "base_uri": "https://localhost:8080/",
          "height": 35
        },
        "id": "7X_-Sdwa-_xF",
        "outputId": "dffcdc03-b305-4939-9e4a-cb0bfd7c5c97"
      },
      "source": [
        "soup.find(id=('update')).text"
      ],
      "execution_count": 54,
      "outputs": [
        {
          "output_type": "execute_result",
          "data": {
            "application/vnd.google.colaboratory.intrinsic+json": {
              "type": "string"
            },
            "text/plain": [
              "'update : 20.12.30'"
            ]
          },
          "metadata": {
            "tags": []
          },
          "execution_count": 54
        }
      ]
    },
    {
      "cell_type": "code",
      "metadata": {
        "colab": {
          "base_uri": "https://localhost:8080/"
        },
        "id": "t6GftONtKfoG",
        "outputId": "45412253-a74b-44d9-d040-4d2c45470c0b"
      },
      "source": [
        "soup.find_all('h2')"
      ],
      "execution_count": 55,
      "outputs": [
        {
          "output_type": "execute_result",
          "data": {
            "text/plain": [
              "[<h2>(주)캣네생선</h2>,\n",
              " <h2 id=\"제주코딩베이스캠프연구원\">제주코딩베이스캠프 연구원</h2>,\n",
              " <h2 id=\"제주코딩베이스캠프공업\">제주코딩베이스캠프 공업</h2>,\n",
              " <h2 id=\"제주코딩베이스캠프출판사\">제주코딩베이스캠프 출판사</h2>,\n",
              " <h2 id=\"제주코딩베이스캠프학원\">제주코딩베이스캠프 학원</h2>]"
            ]
          },
          "metadata": {
            "tags": []
          },
          "execution_count": 55
        }
      ]
    },
    {
      "cell_type": "markdown",
      "metadata": {
        "id": "Oqn2sJDrLKGa"
      },
      "source": [
        "객체와 함께 찾고자 하는 부분을 그냥 넣거나 find를 이용 찾을 수 있다.\r\n",
        "\r\n",
        "find_all 이용시 해당 부분을 모두 가져온다. 이 뒤에 .[] 리스트 형태로 몇번째를 가져올지 지정도 가능."
      ]
    },
    {
      "cell_type": "code",
      "metadata": {
        "id": "8eg_y7TlKfmG"
      },
      "source": [
        "soup.find_all('table',class_='table')"
      ],
      "execution_count": null,
      "outputs": []
    },
    {
      "cell_type": "code",
      "metadata": {
        "colab": {
          "base_uri": "https://localhost:8080/",
          "height": 215
        },
        "id": "51bF7o7cKfjt",
        "outputId": "b032e063-8b74-4759-c8b9-e3260a9c23b9"
      },
      "source": [
        "soup.text"
      ],
      "execution_count": 57,
      "outputs": [
        {
          "output_type": "execute_result",
          "data": {
            "application/vnd.google.colaboratory.intrinsic+json": {
              "type": "string"
            },
            "text/plain": [
              "\"\\n\\n\\n\\n\\n\\nDocument\\n\\n\\n\\r\\n    h1{\\r\\n      margin: 2rem;\\r\\n    }\\r\\n    h1>span{\\r\\n      font-size: 1rem;\\r\\n    }\\r\\n    .main {\\r\\n      width: 80%;\\r\\n      margin: 0 auto;\\r\\n      text-align: center;\\r\\n    }\\r\\n\\r\\n    table {\\r\\n      width: 100%;\\r\\n    }\\r\\n\\r\\n    a {\\r\\n      color: inherit;\\r\\n      cursor: pointer;\\r\\n      text-decoration: none;\\r\\n    }\\r\\n\\r\\n    a:hover {\\r\\n      color: #000;\\r\\n      text-decoration: none;\\r\\n    }\\r\\n\\r\\n    em {\\r\\n      font: inherit;\\r\\n    }\\r\\n\\r\\n    #information {\\r\\n      padding: 15px;\\r\\n      margin-bottom: 50px;\\r\\n    }\\r\\n\\r\\n    #information h2 {\\r\\n      padding-bottom: 20px;\\r\\n    }\\r\\n\\r\\n    #information .wrap {\\r\\n      display: flex;\\r\\n      align-items: center;\\r\\n\\r\\n    }\\r\\n\\r\\n    #information .cat-img {\\r\\n      width: 70%;\\r\\n      padding-right: 100px;\\r\\n    }\\r\\n\\r\\n    #information .cat-img img {\\r\\n      width: 100%;\\r\\n      height: auto;\\r\\n    }\\r\\n\\r\\n    #information .tables {\\r\\n      border: 1px solid #dbdbdb;\\r\\n      padding: 20px 10px;\\r\\n    }\\r\\n\\r\\n    #information table {\\r\\n      position: relative;\\r\\n      width: 300px;\\r\\n      padding: 10px;\\r\\n      /* border-bottom: 1.5px dashed #dbdbdb; */\\r\\n      align-items: center;\\r\\n      border-collapse: separate;\\r\\n    }\\r\\n\\r\\n    #information tr {\\r\\n      text-align: left;\\r\\n      align-items: center;\\r\\n    }\\r\\n\\r\\n    #information th {\\r\\n      font-size: 14px;\\r\\n      align-items: center;\\r\\n      padding-right: 10px;\\r\\n      font-weight: normal;\\r\\n    }\\r\\n\\r\\n    #information td {\\r\\n      text-align: right;\\r\\n      font-size: 13px;\\r\\n    }\\r\\n\\r\\n    #information .strong {\\r\\n      font-weight: bold;\\r\\n    }\\r\\n\\r\\n    .bar {\\r\\n      color: #dbdbdb;\\r\\n      font-size: 14px;\\r\\n    }\\r\\n\\r\\n    .link_site i {\\r\\n      color: #000;\\r\\n    }\\r\\n\\r\\n    .link_site:hover {\\r\\n      text-decoration: underline;\\r\\n    }\\r\\n\\r\\n    .link_site i {\\r\\n      color: #dbdbdb;\\r\\n      padding-left: 5px;\\r\\n    }\\r\\n\\r\\n    .help {\\r\\n      font-size: 5px;\\r\\n      font-weight: bold;\\r\\n      color: rgb(91, 100, 103);\\r\\n      border: 1px solid #888;\\r\\n      padding: 0px 3px;\\r\\n    }\\r\\n\\r\\n    .lyr_section {\\r\\n      position: absolute;\\r\\n      font-size: 13px;\\r\\n      background-color: #FFF;\\r\\n      padding: 10px;\\r\\n      width: 250px;\\r\\n      border: 1px solid #888;\\r\\n      line-height: 1.5;\\r\\n      margin-top: 10px;\\r\\n      z-index: 999;\\r\\n    }\\r\\n\\r\\n    #helpPannel5 p {\\r\\n      color: #888;\\r\\n      margin: 0;\\r\\n    }\\r\\n\\r\\n    .arrow {\\r\\n      position: absolute;\\r\\n      left: 75px;\\r\\n      top: 0;\\r\\n      width: 10px;\\r\\n      height: 10px;\\r\\n      border-top: 1px solid #888;\\r\\n      border-right: 1px solid #888;\\r\\n      background-color: #FFF;\\r\\n      margin-top: -6px;\\r\\n      -webkit-transform: rotate(-45deg);\\r\\n      transform: rotate(-45deg);\\r\\n    }\\r\\n\\r\\n    .border-style {\\r\\n      border-bottom: 1.5px dashed #dbdbdb;\\r\\n    }\\r\\n\\r\\n  \\n\\n\\n크롤링 연습용 페이지 update : 20.12.30\\n\\n(주)캣네생선\\n\\n\\n\\n\\n\\n\\n\\n시가총액\\n\\n349조 2,323억원\\n\\n\\n\\n시가총액순위\\n\\n\\n위니브월드 1위\\n\\n\\n상장주식수\\n\\n5,969,782,550\\n\\n\\n\\n\\n현재가\\n349조 2,323억원\\n\\n\\n52주 최고 l 최저\\n\\n62,800\\nl\\n42,300\\n\\n\\n\\n배당수익률 l 2019.12\\n?\\n\\n\\n배당수익률 = (배당금 / 현재가) x 100\\n배당금은 최근 결산연도 기준의 중간배당을 포함한 총 배당금입니다.\\n\\n\\n\\n\\n\\n2.42%\\r\\n                \\n\\n\\n\\n\\n매출\\n\\n22,125,034,978,750원\\n\\n\\n비용\\n\\n19,223,803,154,781원\\n\\n\\n순익\\n\\n2,901,231,823,969원\\n\\n\\n\\n\\n\\n\\n제주코딩베이스캠프 연구원\\n일별 시세\\n\\n\\n\\n날짜\\n종가\\n전일비\\n시가\\n고가\\n저가\\n거래량\\n\\n\\n2019.10.23\\n6,650\\n\\n\\r\\n                            20\\r\\n                        \\n\\n6,590\\n6,830\\n6,580\\n398,421\\n\\n\\n2019.10.22\\n6,630\\n\\n\\r\\n                            190\\r\\n                        \\n\\n6,830\\n6,930\\n6,530\\n919,571\\n\\n\\n2019.10.21\\n6,820\\n\\n\\r\\n                            390\\r\\n                        \\n\\n6,440\\n6,890\\n6,360\\n1,678,055\\n\\n\\n2019.10.18\\n6,430\\n\\n\\r\\n                            480\\r\\n                        \\n\\n6,020\\n6,620\\n5,970\\n2,168,857\\n\\n\\n2019.10.17\\n5,950\\n\\n\\r\\n                            20\\r\\n                        \\n\\n6,100\\n6,180\\n5,840\\n1,982,922\\n\\n\\n2019.10.16\\n5,930\\n\\n\\r\\n                            290\\r\\n                        \\n\\n5,620\\n5,930\\n5,350\\n839,434\\n\\n\\n2019.10.15\\n5,640\\n\\n\\r\\n                            260\\r\\n                        \\n\\n5,370\\n5,660\\n5,300\\n702,104\\n\\n\\n2019.10.14\\n5,380\\n\\n\\r\\n                            340\\r\\n                        \\n\\n5,060\\n5,420\\n5,060\\n764,800\\n\\n\\n2019.10.11\\n5,040\\n\\n\\r\\n                            60\\r\\n                        \\n\\n5,100\\n5,170\\n5,020\\n134,558\\n\\n\\n2019.10.10\\n5,100\\n\\n\\r\\n                            50\\r\\n                        \\n\\n5,000\\n5,120\\n4,970\\n288,563\\n\\n\\n2019.10.08\\n5,050\\n\\n\\r\\n                            110\\r\\n                        \\n\\n4,985\\n5,050\\n4,910\\n223,839\\n\\n\\n2019.10.07\\n4,940\\n\\n\\r\\n                            70\\r\\n                        \\n\\n4,990\\n5,110\\n4,905\\n199,580\\n\\n\\n2019.10.04\\n5,010\\n\\n\\r\\n                            90\\r\\n                        \\n\\n4,900\\n5,050\\n4,900\\n188,467\\n\\n\\n2019.10.02\\n4,920\\n\\n\\r\\n                            90\\r\\n                        \\n\\n4,930\\n5,000\\n4,900\\n160,510\\n\\n\\n2019.10.01\\n5,010\\n\\n\\r\\n                            10\\r\\n                        \\n\\n4,950\\n5,050\\n4,950\\n246,145\\n\\n\\n2019.09.30\\n5,000\\n\\n\\r\\n                            10\\r\\n                        \\n\\n5,180\\n5,300\\n4,990\\n705,046\\n\\n\\n2019.09.27\\n5,010\\n\\n\\r\\n                            50\\r\\n                        \\n\\n5,020\\n5,080\\n4,865\\n408,859\\n\\n\\n2019.09.26\\n5,060\\n\\n0\\n\\n5,130\\n5,200\\n4,965\\n404,633\\n\\n\\n2019.09.25\\n5,060\\n\\n\\r\\n                            270\\r\\n                        \\n\\n5,280\\n5,320\\n5,040\\n441,923\\n\\n\\n2019.09.24\\n5,330\\n\\n\\r\\n                            10\\r\\n                        \\n\\n5,300\\n5,370\\n5,280\\n211,019\\n\\n\\n\\n\\n\\n제주코딩베이스캠프 공업\\n일별 시세\\n\\n\\n\\n날짜\\n종가\\n전일비\\n시가\\n고가\\n저가\\n거래량\\n\\n\\n2019.10.23\\n31,300\\n\\n\\r\\n                            100\\r\\n                        \\n\\n31,150\\n31,850\\n30,450\\n513,365\\n\\n\\n2019.10.22\\n31,200\\n\\n\\r\\n                            100\\r\\n                        \\n\\n31,450\\n31,750\\n30,100\\n938,845\\n\\n\\n2019.10.21\\n31,300\\n\\n\\r\\n                            500\\r\\n                        \\n\\n31,250\\n32,800\\n30,500\\n1,774,049\\n\\n\\n2019.10.18\\n30,800\\n\\n\\r\\n                            2,400\\r\\n                        \\n\\n28,700\\n31,100\\n28,400\\n1,731,279\\n\\n\\n2019.10.17\\n28,400\\n\\n\\r\\n                            700\\r\\n                        \\n\\n28,050\\n29,200\\n27,950\\n983,611\\n\\n\\n2019.10.16\\n27,700\\n\\n\\r\\n                            900\\r\\n                        \\n\\n27,900\\n28,200\\n27,300\\n1,003,434\\n\\n\\n2019.10.15\\n26,800\\n\\n\\r\\n                            700\\r\\n                        \\n\\n26,250\\n27,000\\n25,850\\n589,982\\n\\n\\n2019.10.14\\n26,100\\n\\n\\r\\n                            100\\r\\n                        \\n\\n26,500\\n26,550\\n25,750\\n335,940\\n\\n\\n2019.10.11\\n26,200\\n\\n0\\n\\n26,650\\n26,700\\n25,700\\n531,894\\n\\n\\n2019.10.10\\n26,200\\n\\n\\r\\n                            1,700\\r\\n                        \\n\\n24,750\\n26,300\\n24,700\\n1,060,562\\n\\n\\n2019.10.08\\n24,500\\n\\n\\r\\n                            850\\r\\n                        \\n\\n23,600\\n24,600\\n23,150\\n336,803\\n\\n\\n2019.10.07\\n23,650\\n\\n\\r\\n                            450\\r\\n                        \\n\\n24,200\\n24,400\\n23,550\\n285,608\\n\\n\\n2019.10.04\\n24,100\\n\\n\\r\\n                            400\\r\\n                        \\n\\n24,300\\n24,700\\n23,900\\n236,640\\n\\n\\n2019.10.02\\n24,500\\n\\n0\\n\\n24,100\\n24,900\\n24,000\\n258,642\\n\\n\\n2019.10.01\\n24,500\\n\\n\\r\\n                            400\\r\\n                        \\n\\n24,700\\n25,200\\n24,350\\n368,213\\n\\n\\n2019.09.30\\n24,100\\n\\n\\r\\n                            300\\r\\n                        \\n\\n23,300\\n24,150\\n22,950\\n369,465\\n\\n\\n2019.09.27\\n23,800\\n\\n\\r\\n                            300\\r\\n                        \\n\\n24,050\\n24,600\\n23,400\\n300,900\\n\\n\\n2019.09.26\\n24,100\\n\\n\\r\\n                            200\\r\\n                        \\n\\n24,650\\n24,800\\n23,850\\n227,601\\n\\n\\n2019.09.25\\n24,300\\n\\n\\r\\n                            1,200\\r\\n                        \\n\\n25,200\\n25,450\\n24,200\\n367,106\\n\\n\\n2019.09.24\\n25,500\\n\\n\\r\\n                            150\\r\\n                        \\n\\n25,650\\n25,800\\n25,150\\n248,811\\n\\n\\n\\n\\n\\n제주코딩베이스캠프 출판사\\n일별 시세\\n\\n\\n\\n날짜\\n종가\\n전일비\\n시가\\n고가\\n저가\\n거래량\\n\\n\\n2019.10.23\\n13,250\\n\\n\\r\\n                            100\\r\\n                        \\n\\n13,400\\n13,450\\n13,150\\n83,405\\n\\n\\n2019.10.22\\n13,350\\n\\n\\r\\n                            150\\r\\n                        \\n\\n13,500\\n13,600\\n13,250\\n160,439\\n\\n\\n2019.10.21\\n13,500\\n\\n\\r\\n                            450\\r\\n                        \\n\\n13,150\\n13,550\\n13,000\\n237,001\\n\\n\\n2019.10.18\\n13,050\\n\\n\\r\\n                            350\\r\\n                        \\n\\n12,850\\n13,450\\n12,850\\n278,034\\n\\n\\n2019.10.17\\n12,700\\n\\n\\r\\n                            450\\r\\n                        \\n\\n13,100\\n13,150\\n12,650\\n179,950\\n\\n\\n2019.10.16\\n13,150\\n\\n\\r\\n                            600\\r\\n                        \\n\\n12,650\\n13,800\\n12,650\\n615,073\\n\\n\\n2019.10.15\\n12,550\\n\\n\\r\\n                            150\\r\\n                        \\n\\n12,800\\n12,800\\n12,550\\n128,599\\n\\n\\n2019.10.14\\n12,700\\n\\n0\\n\\n12,850\\n12,850\\n12,600\\n47,049\\n\\n\\n2019.10.11\\n12,700\\n\\n\\r\\n                            150\\r\\n                        \\n\\n12,550\\n12,700\\n12,450\\n60,017\\n\\n\\n2019.10.10\\n12,550\\n\\n0\\n\\n12,400\\n12,750\\n12,350\\n82,049\\n\\n\\n2019.10.08\\n12,550\\n\\n\\r\\n                            150\\r\\n                        \\n\\n12,700\\n12,750\\n12,500\\n75,452\\n\\n\\n2019.10.07\\n12,700\\n\\n\\r\\n                            50\\r\\n                        \\n\\n12,700\\n12,800\\n12,550\\n98,403\\n\\n\\n2019.10.04\\n12,750\\n\\n\\r\\n                            150\\r\\n                        \\n\\n12,900\\n12,950\\n12,700\\n89,815\\n\\n\\n2019.10.02\\n12,900\\n\\n\\r\\n                            450\\r\\n                        \\n\\n13,250\\n13,300\\n12,900\\n157,254\\n\\n\\n2019.10.01\\n13,350\\n\\n\\r\\n                            50\\r\\n                        \\n\\n13,250\\n13,400\\n13,050\\n125,442\\n\\n\\n2019.09.30\\n13,300\\n\\n\\r\\n                            150\\r\\n                        \\n\\n13,150\\n13,500\\n13,100\\n131,064\\n\\n\\n2019.09.27\\n13,150\\n\\n\\r\\n                            100\\r\\n                        \\n\\n12,950\\n13,150\\n12,900\\n52,919\\n\\n\\n2019.09.26\\n13,050\\n\\n0\\n\\n13,200\\n13,200\\n12,950\\n153,270\\n\\n\\n2019.09.25\\n13,050\\n\\n\\r\\n                            300\\r\\n                        \\n\\n13,300\\n13,600\\n13,050\\n227,991\\n\\n\\n2019.09.24\\n13,350\\n\\n\\r\\n                            50\\r\\n                        \\n\\n13,250\\n13,750\\n13,250\\n204,286\\n\\n\\n\\n\\n\\n제주코딩베이스캠프 학원\\n일별 시세\\n\\n\\n\\n날짜\\n종가\\n전일비\\n시가\\n고가\\n저가\\n거래량\\n\\n\\n2019.10.23\\n2,600\\n\\n\\r\\n                            600\\r\\n                        \\n\\n2,055\\n2,600\\n2,020\\n2,203,110\\n\\n\\n2019.10.22\\n2,000\\n\\n\\r\\n                            5\\r\\n                        \\n\\n1,985\\n2,005\\n1,980\\n32,212\\n\\n\\n2019.10.21\\n1,995\\n\\n\\r\\n                            30\\r\\n                        \\n\\n2,025\\n2,035\\n1,975\\n35,186\\n\\n\\n2019.10.18\\n2,025\\n\\n\\r\\n                            40\\r\\n                        \\n\\n1,985\\n2,050\\n1,980\\n108,481\\n\\n\\n2019.10.17\\n1,985\\n\\n\\r\\n                            10\\r\\n                        \\n\\n1,980\\n1,990\\n1,955\\n20,766\\n\\n\\n2019.10.16\\n1,975\\n\\n\\r\\n                            5\\r\\n                        \\n\\n1,985\\n1,995\\n1,970\\n19,243\\n\\n\\n2019.10.15\\n1,980\\n\\n\\r\\n                            20\\r\\n                        \\n\\n1,970\\n1,980\\n1,960\\n35,658\\n\\n\\n2019.10.14\\n1,960\\n\\n0\\n\\n1,955\\n1,970\\n1,935\\n26,698\\n\\n\\n2019.10.11\\n1,960\\n\\n\\r\\n                            45\\r\\n                        \\n\\n1,925\\n1,965\\n1,910\\n45,469\\n\\n\\n2019.10.10\\n1,915\\n\\n\\r\\n                            15\\r\\n                        \\n\\n1,885\\n1,915\\n1,885\\n32,773\\n\\n\\n2019.10.08\\n1,900\\n\\n\\r\\n                            20\\r\\n                        \\n\\n1,915\\n1,935\\n1,885\\n62,433\\n\\n\\n2019.10.07\\n1,920\\n\\n\\r\\n                            50\\r\\n                        \\n\\n1,970\\n1,980\\n1,895\\n89,504\\n\\n\\n2019.10.04\\n1,970\\n\\n\\r\\n                            20\\r\\n                        \\n\\n1,980\\n2,005\\n1,970\\n47,894\\n\\n\\n2019.10.02\\n1,990\\n\\n0\\n\\n1,975\\n2,030\\n1,965\\n74,176\\n\\n\\n2019.10.01\\n1,990\\n\\n\\r\\n                            20\\r\\n                        \\n\\n1,975\\n2,005\\n1,965\\n44,690\\n\\n\\n2019.09.30\\n1,970\\n\\n\\r\\n                            5\\r\\n                        \\n\\n1,980\\n2,000\\n1,970\\n34,087\\n\\n\\n2019.09.27\\n1,975\\n\\n\\r\\n                            5\\r\\n                        \\n\\n1,975\\n2,060\\n1,965\\n109,372\\n\\n\\n2019.09.26\\n1,970\\n\\n\\r\\n                            30\\r\\n                        \\n\\n2,000\\n2,035\\n1,950\\n83,120\\n\\n\\n2019.09.25\\n2,000\\n\\n\\r\\n                            65\\r\\n                        \\n\\n2,065\\n2,065\\n1,985\\n78,144\\n\\n\\n2019.09.24\\n2,065\\n\\n\\r\\n                            30\\r\\n                        \\n\\n2,020\\n2,090\\n2,020\\n139,085\\n\\n\\n\\n\\n\\n\\r\\n  $('.help').hover(function() {\\r\\n    $('.lyr_section').css('display', 'block');\\r\\n  }, function() {\\r\\n    $('.lyr_section').css('display', 'none');\\r\\n  });\\r\\n\\r\\n\\n\\n\\n\""
            ]
          },
          "metadata": {
            "tags": []
          },
          "execution_count": 57
        }
      ]
    },
    {
      "cell_type": "code",
      "metadata": {
        "colab": {
          "base_uri": "https://localhost:8080/"
        },
        "id": "L_MDJ40-Kfg-",
        "outputId": "bfe60cc4-f1f2-459d-957f-2532db34cd7b"
      },
      "source": [
        "soup = BeautifulSoup('''\r\n",
        "<hojun id='jeju' class='codingBaseCamp codingLevelUp'>\r\n",
        "    hello world\r\n",
        "</hojun>\r\n",
        "''')\r\n",
        "tag = soup.hojun\r\n",
        "tag"
      ],
      "execution_count": 58,
      "outputs": [
        {
          "output_type": "execute_result",
          "data": {
            "text/plain": [
              "<hojun class=\"codingBaseCamp codingLevelUp\" id=\"jeju\">\n",
              "    hello world\n",
              "</hojun>"
            ]
          },
          "metadata": {
            "tags": []
          },
          "execution_count": 58
        }
      ]
    },
    {
      "cell_type": "code",
      "metadata": {
        "colab": {
          "base_uri": "https://localhost:8080/"
        },
        "id": "Qcn-LVeqKfdA",
        "outputId": "4998548f-f89f-48c1-b801-5ffc342abc25"
      },
      "source": [
        "type(tag)"
      ],
      "execution_count": 59,
      "outputs": [
        {
          "output_type": "execute_result",
          "data": {
            "text/plain": [
              "bs4.element.Tag"
            ]
          },
          "metadata": {
            "tags": []
          },
          "execution_count": 59
        }
      ]
    },
    {
      "cell_type": "code",
      "metadata": {
        "id": "e9KsArt6-_y-"
      },
      "source": [
        "# 해당 객체 내 메소드 살펴보기\r\n",
        "dir(tag)"
      ],
      "execution_count": null,
      "outputs": []
    },
    {
      "cell_type": "code",
      "metadata": {
        "colab": {
          "base_uri": "https://localhost:8080/",
          "height": 35
        },
        "id": "1NbxGem6MSul",
        "outputId": "0745d2b9-33eb-43a4-8fa7-db62cb795e4f"
      },
      "source": [
        "tag.name"
      ],
      "execution_count": 62,
      "outputs": [
        {
          "output_type": "execute_result",
          "data": {
            "application/vnd.google.colaboratory.intrinsic+json": {
              "type": "string"
            },
            "text/plain": [
              "'hojun'"
            ]
          },
          "metadata": {
            "tags": []
          },
          "execution_count": 62
        }
      ]
    },
    {
      "cell_type": "code",
      "metadata": {
        "colab": {
          "base_uri": "https://localhost:8080/"
        },
        "id": "W1qWvPPW-_1A",
        "outputId": "8c0f11c2-2fbb-4071-8ec1-edb9e1d91597"
      },
      "source": [
        "tag['class']"
      ],
      "execution_count": 63,
      "outputs": [
        {
          "output_type": "execute_result",
          "data": {
            "text/plain": [
              "['codingBaseCamp', 'codingLevelUp']"
            ]
          },
          "metadata": {
            "tags": []
          },
          "execution_count": 63
        }
      ]
    },
    {
      "cell_type": "code",
      "metadata": {
        "colab": {
          "base_uri": "https://localhost:8080/",
          "height": 35
        },
        "id": "q1o2oxDZ-_3w",
        "outputId": "4ed32fbb-2160-4ae9-bee8-5f702fce6df4"
      },
      "source": [
        "tag['id']"
      ],
      "execution_count": 64,
      "outputs": [
        {
          "output_type": "execute_result",
          "data": {
            "application/vnd.google.colaboratory.intrinsic+json": {
              "type": "string"
            },
            "text/plain": [
              "'jeju'"
            ]
          },
          "metadata": {
            "tags": []
          },
          "execution_count": 64
        }
      ]
    },
    {
      "cell_type": "code",
      "metadata": {
        "colab": {
          "base_uri": "https://localhost:8080/"
        },
        "id": "6AybLScEMvFy",
        "outputId": "dd56c2e8-62f9-4d3a-8a98-273f2c57164b"
      },
      "source": [
        "tag.attrs"
      ],
      "execution_count": 65,
      "outputs": [
        {
          "output_type": "execute_result",
          "data": {
            "text/plain": [
              "{'class': ['codingBaseCamp', 'codingLevelUp'], 'id': 'jeju'}"
            ]
          },
          "metadata": {
            "tags": []
          },
          "execution_count": 65
        }
      ]
    },
    {
      "cell_type": "code",
      "metadata": {
        "colab": {
          "base_uri": "https://localhost:8080/",
          "height": 35
        },
        "id": "GzfHktPeMvD1",
        "outputId": "beefb2da-6665-4140-84b8-b6217fa81b96"
      },
      "source": [
        "tag.string"
      ],
      "execution_count": 66,
      "outputs": [
        {
          "output_type": "execute_result",
          "data": {
            "application/vnd.google.colaboratory.intrinsic+json": {
              "type": "string"
            },
            "text/plain": [
              "'\\n    hello world\\n'"
            ]
          },
          "metadata": {
            "tags": []
          },
          "execution_count": 66
        }
      ]
    },
    {
      "cell_type": "code",
      "metadata": {
        "colab": {
          "base_uri": "https://localhost:8080/",
          "height": 35
        },
        "id": "cvkv-cKrMvB0",
        "outputId": "68faa94d-25e3-4eae-bf6b-f837cf6c6164"
      },
      "source": [
        "tag.text"
      ],
      "execution_count": 67,
      "outputs": [
        {
          "output_type": "execute_result",
          "data": {
            "application/vnd.google.colaboratory.intrinsic+json": {
              "type": "string"
            },
            "text/plain": [
              "'\\n    hello world\\n'"
            ]
          },
          "metadata": {
            "tags": []
          },
          "execution_count": 67
        }
      ]
    },
    {
      "cell_type": "code",
      "metadata": {
        "colab": {
          "base_uri": "https://localhost:8080/"
        },
        "id": "-AMIffeWMvAA",
        "outputId": "3f9f45e7-b159-4114-9f9c-7508be865c36"
      },
      "source": [
        "tag.contents"
      ],
      "execution_count": 68,
      "outputs": [
        {
          "output_type": "execute_result",
          "data": {
            "text/plain": [
              "['\\n    hello world\\n']"
            ]
          },
          "metadata": {
            "tags": []
          },
          "execution_count": 68
        }
      ]
    },
    {
      "cell_type": "code",
      "metadata": {
        "colab": {
          "base_uri": "https://localhost:8080/"
        },
        "id": "ElLDZqY3Mu9-",
        "outputId": "51c33299-9b86-487b-dc59-af1448be638a"
      },
      "source": [
        "for i in tag.children:\r\n",
        "    print(i)"
      ],
      "execution_count": 69,
      "outputs": [
        {
          "output_type": "stream",
          "text": [
            "\n",
            "    hello world\n",
            "\n"
          ],
          "name": "stdout"
        }
      ]
    },
    {
      "cell_type": "code",
      "metadata": {
        "colab": {
          "base_uri": "https://localhost:8080/"
        },
        "id": "4GRYJ-M-Mu8L",
        "outputId": "e18d9465-c170-44cb-c8d3-9f54fe5f5ca6"
      },
      "source": [
        "tag.children"
      ],
      "execution_count": 70,
      "outputs": [
        {
          "output_type": "execute_result",
          "data": {
            "text/plain": [
              "<list_iterator at 0x7f450afba048>"
            ]
          },
          "metadata": {
            "tags": []
          },
          "execution_count": 70
        }
      ]
    },
    {
      "cell_type": "markdown",
      "metadata": {
        "id": "ua2M_edeM99l"
      },
      "source": [
        "기초적인 태그 연습을 해보았으니 본격적인 태그 연습을 해보자."
      ]
    },
    {
      "cell_type": "code",
      "metadata": {
        "colab": {
          "base_uri": "https://localhost:8080/"
        },
        "id": "UcBV8MQ6Mu6D",
        "outputId": "170c01f2-c113-4ee7-f84a-90b5830fb199"
      },
      "source": [
        "soup = BeautifulSoup('''\r\n",
        "<ul>\r\n",
        "    <li id=jeju' class='codingBaseCamp codingLevelUp'>hello world</li>\r\n",
        "    <li id=jeju' class='codingBaseCamp codingLevelUp'>hello world</li>\r\n",
        "    <li id=jeju' class='codingBaseCamp codingLevelUp'>hello world</li>\r\n",
        "</ul>\r\n",
        "''')\r\n",
        "tag = soup.ul\r\n",
        "tag"
      ],
      "execution_count": 71,
      "outputs": [
        {
          "output_type": "execute_result",
          "data": {
            "text/plain": [
              "<ul>\n",
              "<li class=\"codingBaseCamp codingLevelUp\" id=\"jeju'\">hello world</li>\n",
              "<li class=\"codingBaseCamp codingLevelUp\" id=\"jeju'\">hello world</li>\n",
              "<li class=\"codingBaseCamp codingLevelUp\" id=\"jeju'\">hello world</li>\n",
              "</ul>"
            ]
          },
          "metadata": {
            "tags": []
          },
          "execution_count": 71
        }
      ]
    },
    {
      "cell_type": "code",
      "metadata": {
        "colab": {
          "base_uri": "https://localhost:8080/"
        },
        "id": "HRzBv93CMu4J",
        "outputId": "5ab26580-c557-4182-9454-f5fd66107ff4"
      },
      "source": [
        "tag.contents"
      ],
      "execution_count": 72,
      "outputs": [
        {
          "output_type": "execute_result",
          "data": {
            "text/plain": [
              "['\\n',\n",
              " <li class=\"codingBaseCamp codingLevelUp\" id=\"jeju'\">hello world</li>,\n",
              " '\\n',\n",
              " <li class=\"codingBaseCamp codingLevelUp\" id=\"jeju'\">hello world</li>,\n",
              " '\\n',\n",
              " <li class=\"codingBaseCamp codingLevelUp\" id=\"jeju'\">hello world</li>,\n",
              " '\\n']"
            ]
          },
          "metadata": {
            "tags": []
          },
          "execution_count": 72
        }
      ]
    },
    {
      "cell_type": "code",
      "metadata": {
        "colab": {
          "base_uri": "https://localhost:8080/"
        },
        "id": "TWKN6AJjMu2K",
        "outputId": "554b3a48-27d3-42ab-dd73-0230ed94685d"
      },
      "source": [
        "tag.contents[1]"
      ],
      "execution_count": 74,
      "outputs": [
        {
          "output_type": "execute_result",
          "data": {
            "text/plain": [
              "<li class=\"codingBaseCamp codingLevelUp\" id=\"jeju'\">hello world</li>"
            ]
          },
          "metadata": {
            "tags": []
          },
          "execution_count": 74
        }
      ]
    },
    {
      "cell_type": "code",
      "metadata": {
        "colab": {
          "base_uri": "https://localhost:8080/"
        },
        "id": "5QQAyIwaMu0L",
        "outputId": "8d7d1d82-b762-4e00-aa79-6affe277c82c"
      },
      "source": [
        "tag.li.parent"
      ],
      "execution_count": 75,
      "outputs": [
        {
          "output_type": "execute_result",
          "data": {
            "text/plain": [
              "<ul>\n",
              "<li class=\"codingBaseCamp codingLevelUp\" id=\"jeju'\">hello world</li>\n",
              "<li class=\"codingBaseCamp codingLevelUp\" id=\"jeju'\">hello world</li>\n",
              "<li class=\"codingBaseCamp codingLevelUp\" id=\"jeju'\">hello world</li>\n",
              "</ul>"
            ]
          },
          "metadata": {
            "tags": []
          },
          "execution_count": 75
        }
      ]
    },
    {
      "cell_type": "markdown",
      "metadata": {
        "id": "YFz-_RoSNgBX"
      },
      "source": [
        "### Selector\r\n",
        "* 태그에 좀 더 세밀한 접근 가능\r\n",
        "* class 지정 시 '.'을 사용하고, id 지정 시 '#' 사용\r\n",
        "* 탐색하고자 하는 태그가 특정태그 하위에 있을 때, '>' 사용"
      ]
    },
    {
      "cell_type": "code",
      "metadata": {
        "id": "tRVoZJNJNf4B"
      },
      "source": [
        "import requests\r\n",
        "from bs4 import BeautifulSoup\r\n",
        "\r\n",
        "response = requests.get('http://paullab.synology.me/stock.html')\r\n",
        "\r\n",
        "response.encoding = 'utf-8'\r\n",
        "html= response.text\r\n",
        "\r\n",
        "soup = BeautifulSoup(html,'html.parser')"
      ],
      "execution_count": 76,
      "outputs": []
    },
    {
      "cell_type": "code",
      "metadata": {
        "colab": {
          "base_uri": "https://localhost:8080/"
        },
        "id": "LMlvAnWLNf0H",
        "outputId": "6de84274-4e3c-455b-cf3e-b8bbc7245cc3"
      },
      "source": [
        "soup.select('#update')"
      ],
      "execution_count": 77,
      "outputs": [
        {
          "output_type": "execute_result",
          "data": {
            "text/plain": [
              "[<span id=\"update\">update : 20.12.30</span>]"
            ]
          },
          "metadata": {
            "tags": []
          },
          "execution_count": 77
        }
      ]
    },
    {
      "cell_type": "code",
      "metadata": {
        "colab": {
          "base_uri": "https://localhost:8080/"
        },
        "id": "_8SmnsfwNfyS",
        "outputId": "24c63267-e393-4df6-9e22-4588be5982a0"
      },
      "source": [
        "soup.select('.table > tr')"
      ],
      "execution_count": 78,
      "outputs": [
        {
          "output_type": "execute_result",
          "data": {
            "text/plain": [
              "[]"
            ]
          },
          "metadata": {
            "tags": []
          },
          "execution_count": 78
        }
      ]
    },
    {
      "cell_type": "code",
      "metadata": {
        "id": "WnKXCL85NfwT"
      },
      "source": [
        "soup.select('.table > tbody > tr')"
      ],
      "execution_count": null,
      "outputs": []
    },
    {
      "cell_type": "markdown",
      "metadata": {
        "id": "8Ac8N1EwONBs"
      },
      "source": [
        "사이트에 가서 확인해보면 알 수 있듯이 table 밑에 tbody가 있고 tr이 있기에, 2번에 걸쳐 하위 태그를 지정해봐야한다."
      ]
    },
    {
      "cell_type": "code",
      "metadata": {
        "colab": {
          "base_uri": "https://localhost:8080/"
        },
        "id": "mWzWVSWFNfuF",
        "outputId": "7f51fc91-dc9a-44c5-cf17-e6a69ad00eb7"
      },
      "source": [
        "onestep = soup.select('.main')[2]\r\n",
        "onestep"
      ],
      "execution_count": 124,
      "outputs": [
        {
          "output_type": "execute_result",
          "data": {
            "text/plain": [
              "<div class=\"main\">\n",
              "<h2 id=\"제주코딩베이스캠프연구원\">제주코딩베이스캠프 연구원</h2>\n",
              "<h3><span style=\"color: salmon\">일별</span> 시세</h3>\n",
              "<table class=\"table table-hover\">\n",
              "<tbody>\n",
              "<tr>\n",
              "<th scope=\"col\">날짜</th>\n",
              "<th scope=\"col\">종가</th>\n",
              "<th scope=\"col\">전일비</th>\n",
              "<th scope=\"col\">시가</th>\n",
              "<th scope=\"col\">고가</th>\n",
              "<th scope=\"col\">저가</th>\n",
              "<th scope=\"col\">거래량</th>\n",
              "</tr>\n",
              "<tr>\n",
              "<td align=\"center \"><span class=\"date \">2019.10.23</span></td>\n",
              "<td class=\"num \"><span>6,650</span></td>\n",
              "<td class=\"num \">\n",
              "<img alt=\"상승 \" height=\"6 \" src=\"ico_up.gif \" style=\"margin-right:4px; \" width=\"7 \"/><span>\n",
              "                            20\n",
              "                        </span>\n",
              "</td>\n",
              "<td class=\"num \"><span>6,590</span></td>\n",
              "<td class=\"num \"><span>6,830</span></td>\n",
              "<td class=\"num \"><span>6,580</span></td>\n",
              "<td class=\"num \"><span>398,421</span></td>\n",
              "</tr>\n",
              "<tr>\n",
              "<td align=\"center\"><span class=\"date\">2019.10.22</span></td>\n",
              "<td class=\"num\"><span>6,630</span></td>\n",
              "<td class=\"num\">\n",
              "<img alt=\"하락\" height=\"6\" src=\"ico_down.gif\" style=\"margin-right:4px;\" width=\"7\"/><span class=\"tah p11 nv01\">\n",
              "                            190\n",
              "                        </span>\n",
              "</td>\n",
              "<td class=\"num\"><span>6,830</span></td>\n",
              "<td class=\"num\"><span>6,930</span></td>\n",
              "<td class=\"num\"><span>6,530</span></td>\n",
              "<td class=\"num\"><span>919,571</span></td>\n",
              "</tr>\n",
              "<tr>\n",
              "<td align=\"center\"><span class=\"date\">2019.10.21</span></td>\n",
              "<td class=\"num\"><span>6,820</span></td>\n",
              "<td class=\"num\">\n",
              "<img alt=\"상승\" height=\"6\" src=\"ico_up.gif\" style=\"margin-right:4px;\" width=\"7\"/><span>\n",
              "                            390\n",
              "                        </span>\n",
              "</td>\n",
              "<td class=\"num\"><span>6,440</span></td>\n",
              "<td class=\"num\"><span>6,890</span></td>\n",
              "<td class=\"num\"><span>6,360</span></td>\n",
              "<td class=\"num\"><span>1,678,055</span></td>\n",
              "</tr>\n",
              "<tr>\n",
              "<td align=\"center\"><span class=\"date\">2019.10.18</span></td>\n",
              "<td class=\"num\"><span>6,430</span></td>\n",
              "<td class=\"num\">\n",
              "<img alt=\"상승\" height=\"6\" src=\"ico_up.gif\" style=\"margin-right:4px;\" width=\"7\"/><span>\n",
              "                            480\n",
              "                        </span>\n",
              "</td>\n",
              "<td class=\"num\"><span>6,020</span></td>\n",
              "<td class=\"num\"><span>6,620</span></td>\n",
              "<td class=\"num\"><span>5,970</span></td>\n",
              "<td class=\"num\"><span>2,168,857</span></td>\n",
              "</tr>\n",
              "<tr>\n",
              "<td align=\"center\"><span class=\"date\">2019.10.17</span></td>\n",
              "<td class=\"num\"><span>5,950</span></td>\n",
              "<td class=\"num\">\n",
              "<img alt=\"상승\" height=\"6\" src=\"ico_up.gif\" style=\"margin-right:4px;\" width=\"7\"/><span>\n",
              "                            20\n",
              "                        </span>\n",
              "</td>\n",
              "<td class=\"num\"><span>6,100</span></td>\n",
              "<td class=\"num\"><span>6,180</span></td>\n",
              "<td class=\"num\"><span>5,840</span></td>\n",
              "<td class=\"num\"><span>1,982,922</span></td>\n",
              "</tr>\n",
              "<tr>\n",
              "<td align=\"center\"><span class=\"date\">2019.10.16</span></td>\n",
              "<td class=\"num\"><span>5,930</span></td>\n",
              "<td class=\"num\">\n",
              "<img alt=\"상승\" height=\"6\" src=\"ico_up.gif\" style=\"margin-right:4px;\" width=\"7\"/><span>\n",
              "                            290\n",
              "                        </span>\n",
              "</td>\n",
              "<td class=\"num\"><span>5,620</span></td>\n",
              "<td class=\"num\"><span>5,930</span></td>\n",
              "<td class=\"num\"><span>5,350</span></td>\n",
              "<td class=\"num\"><span>839,434</span></td>\n",
              "</tr>\n",
              "<tr>\n",
              "<td align=\"center\"><span class=\"date\">2019.10.15</span></td>\n",
              "<td class=\"num\"><span>5,640</span></td>\n",
              "<td class=\"num\">\n",
              "<img alt=\"상승\" height=\"6\" src=\"ico_up.gif\" style=\"margin-right:4px;\" width=\"7\"/><span>\n",
              "                            260\n",
              "                        </span>\n",
              "</td>\n",
              "<td class=\"num\"><span>5,370</span></td>\n",
              "<td class=\"num\"><span>5,660</span></td>\n",
              "<td class=\"num\"><span>5,300</span></td>\n",
              "<td class=\"num\"><span>702,104</span></td>\n",
              "</tr>\n",
              "<tr>\n",
              "<td align=\"center\"><span class=\"date\">2019.10.14</span></td>\n",
              "<td class=\"num\"><span>5,380</span></td>\n",
              "<td class=\"num\">\n",
              "<img alt=\"상승\" height=\"6\" src=\"ico_up.gif\" style=\"margin-right:4px;\" width=\"7\"/><span>\n",
              "                            340\n",
              "                        </span>\n",
              "</td>\n",
              "<td class=\"num\"><span>5,060</span></td>\n",
              "<td class=\"num\"><span>5,420</span></td>\n",
              "<td class=\"num\"><span>5,060</span></td>\n",
              "<td class=\"num\"><span>764,800</span></td>\n",
              "</tr>\n",
              "<tr>\n",
              "<td align=\"center\"><span class=\"date\">2019.10.11</span></td>\n",
              "<td class=\"num\"><span>5,040</span></td>\n",
              "<td class=\"num\">\n",
              "<img alt=\"하락\" height=\"6\" src=\"ico_down.gif\" style=\"margin-right:4px;\" width=\"7\"/><span class=\"tah p11 nv01\">\n",
              "                            60\n",
              "                        </span>\n",
              "</td>\n",
              "<td class=\"num\"><span>5,100</span></td>\n",
              "<td class=\"num\"><span>5,170</span></td>\n",
              "<td class=\"num\"><span>5,020</span></td>\n",
              "<td class=\"num\"><span>134,558</span></td>\n",
              "</tr>\n",
              "<tr>\n",
              "<td align=\"center\"><span class=\"date\">2019.10.10</span></td>\n",
              "<td class=\"num\"><span>5,100</span></td>\n",
              "<td class=\"num\">\n",
              "<img alt=\"상승\" height=\"6\" src=\"ico_up.gif\" style=\"margin-right:4px;\" width=\"7\"/><span>\n",
              "                            50\n",
              "                        </span>\n",
              "</td>\n",
              "<td class=\"num\"><span>5,000</span></td>\n",
              "<td class=\"num\"><span>5,120</span></td>\n",
              "<td class=\"num\"><span>4,970</span></td>\n",
              "<td class=\"num\"><span>288,563</span></td>\n",
              "</tr>\n",
              "<tr>\n",
              "<td align=\"center\"><span class=\"date\">2019.10.08</span></td>\n",
              "<td class=\"num\"><span>5,050</span></td>\n",
              "<td class=\"num\">\n",
              "<img alt=\"상승\" height=\"6\" src=\"ico_up.gif\" style=\"margin-right:4px;\" width=\"7\"/><span>\n",
              "                            110\n",
              "                        </span>\n",
              "</td>\n",
              "<td class=\"num\"><span>4,985</span></td>\n",
              "<td class=\"num\"><span>5,050</span></td>\n",
              "<td class=\"num\"><span>4,910</span></td>\n",
              "<td class=\"num\"><span>223,839</span></td>\n",
              "</tr>\n",
              "<tr>\n",
              "<td align=\"center\"><span class=\"date\">2019.10.07</span></td>\n",
              "<td class=\"num\"><span>4,940</span></td>\n",
              "<td class=\"num\">\n",
              "<img alt=\"하락\" height=\"6\" src=\"ico_down.gif\" style=\"margin-right:4px;\" width=\"7\"/><span class=\"tah p11 nv01\">\n",
              "                            70\n",
              "                        </span>\n",
              "</td>\n",
              "<td class=\"num\"><span>4,990</span></td>\n",
              "<td class=\"num\"><span>5,110</span></td>\n",
              "<td class=\"num\"><span>4,905</span></td>\n",
              "<td class=\"num\"><span>199,580</span></td>\n",
              "</tr>\n",
              "<tr>\n",
              "<td align=\"center\"><span class=\"date\">2019.10.04</span></td>\n",
              "<td class=\"num\"><span>5,010</span></td>\n",
              "<td class=\"num\">\n",
              "<img alt=\"상승\" height=\"6\" src=\"ico_up.gif\" style=\"margin-right:4px;\" width=\"7\"/><span>\n",
              "                            90\n",
              "                        </span>\n",
              "</td>\n",
              "<td class=\"num\"><span>4,900</span></td>\n",
              "<td class=\"num\"><span>5,050</span></td>\n",
              "<td class=\"num\"><span>4,900</span></td>\n",
              "<td class=\"num\"><span>188,467</span></td>\n",
              "</tr>\n",
              "<tr>\n",
              "<td align=\"center\"><span class=\"date\">2019.10.02</span></td>\n",
              "<td class=\"num\"><span>4,920</span></td>\n",
              "<td class=\"num\">\n",
              "<img alt=\"하락\" height=\"6\" src=\"ico_down.gif\" style=\"margin-right:4px;\" width=\"7\"/><span class=\"tah p11 nv01\">\n",
              "                            90\n",
              "                        </span>\n",
              "</td>\n",
              "<td class=\"num\"><span>4,930</span></td>\n",
              "<td class=\"num\"><span>5,000</span></td>\n",
              "<td class=\"num\"><span>4,900</span></td>\n",
              "<td class=\"num\"><span>160,510</span></td>\n",
              "</tr>\n",
              "<tr>\n",
              "<td align=\"center\"><span class=\"date\">2019.10.01</span></td>\n",
              "<td class=\"num\"><span>5,010</span></td>\n",
              "<td class=\"num\">\n",
              "<img alt=\"상승\" height=\"6\" src=\"ico_up.gif\" style=\"margin-right:4px;\" width=\"7\"/><span>\n",
              "                            10\n",
              "                        </span>\n",
              "</td>\n",
              "<td class=\"num\"><span>4,950</span></td>\n",
              "<td class=\"num\"><span>5,050</span></td>\n",
              "<td class=\"num\"><span>4,950</span></td>\n",
              "<td class=\"num\"><span>246,145</span></td>\n",
              "</tr>\n",
              "<tr>\n",
              "<td align=\"center\"><span class=\"date\">2019.09.30</span></td>\n",
              "<td class=\"num\"><span>5,000</span></td>\n",
              "<td class=\"num\">\n",
              "<img alt=\"하락\" height=\"6\" src=\"ico_down.gif\" style=\"margin-right:4px;\" width=\"7\"/><span class=\"tah p11 nv01\">\n",
              "                            10\n",
              "                        </span>\n",
              "</td>\n",
              "<td class=\"num\"><span>5,180</span></td>\n",
              "<td class=\"num\"><span>5,300</span></td>\n",
              "<td class=\"num\"><span>4,990</span></td>\n",
              "<td class=\"num\"><span>705,046</span></td>\n",
              "</tr>\n",
              "<tr>\n",
              "<td align=\"center\"><span class=\"date\">2019.09.27</span></td>\n",
              "<td class=\"num\"><span>5,010</span></td>\n",
              "<td class=\"num\">\n",
              "<img alt=\"하락\" height=\"6\" src=\"ico_down.gif\" style=\"margin-right:4px;\" width=\"7\"/><span class=\"tah p11 nv01\">\n",
              "                            50\n",
              "                        </span>\n",
              "</td>\n",
              "<td class=\"num\"><span>5,020</span></td>\n",
              "<td class=\"num\"><span>5,080</span></td>\n",
              "<td class=\"num\"><span>4,865</span></td>\n",
              "<td class=\"num\"><span>408,859</span></td>\n",
              "</tr>\n",
              "<tr>\n",
              "<td align=\"center\"><span class=\"date\">2019.09.26</span></td>\n",
              "<td class=\"num\"><span>5,060</span></td>\n",
              "<td class=\"num\">\n",
              "<span>0</span>\n",
              "</td>\n",
              "<td class=\"num\"><span>5,130</span></td>\n",
              "<td class=\"num\"><span>5,200</span></td>\n",
              "<td class=\"num\"><span>4,965</span></td>\n",
              "<td class=\"num\"><span>404,633</span></td>\n",
              "</tr>\n",
              "<tr>\n",
              "<td align=\"center\"><span class=\"date\">2019.09.25</span></td>\n",
              "<td class=\"num\"><span>5,060</span></td>\n",
              "<td class=\"num\">\n",
              "<img alt=\"하락\" height=\"6\" src=\"ico_down.gif\" style=\"margin-right:4px;\" width=\"7\"/><span class=\"tah p11 nv01\">\n",
              "                            270\n",
              "                        </span>\n",
              "</td>\n",
              "<td class=\"num\"><span>5,280</span></td>\n",
              "<td class=\"num\"><span>5,320</span></td>\n",
              "<td class=\"num\"><span>5,040</span></td>\n",
              "<td class=\"num\"><span>441,923</span></td>\n",
              "</tr>\n",
              "<tr>\n",
              "<td align=\"center\"><span class=\"date\">2019.09.24</span></td>\n",
              "<td class=\"num\"><span>5,330</span></td>\n",
              "<td class=\"num\">\n",
              "<img alt=\"상승\" height=\"6\" src=\"ico_up.gif\" style=\"margin-right:4px;\" width=\"7\"/><span>\n",
              "                            10\n",
              "                        </span>\n",
              "</td>\n",
              "<td class=\"num\"><span>5,300</span></td>\n",
              "<td class=\"num\"><span>5,370</span></td>\n",
              "<td class=\"num\"><span>5,280</span></td>\n",
              "<td class=\"num\"><span>211,019</span></td>\n",
              "</tr>\n",
              "</tbody>\n",
              "</table>\n",
              "</div>"
            ]
          },
          "metadata": {
            "tags": []
          },
          "execution_count": 124
        }
      ]
    },
    {
      "cell_type": "code",
      "metadata": {
        "id": "wJBXuTi0MuyI"
      },
      "source": [
        "twostep = onestep.select('.table > tbody > tr')[1:]"
      ],
      "execution_count": 113,
      "outputs": []
    },
    {
      "cell_type": "code",
      "metadata": {
        "colab": {
          "base_uri": "https://localhost:8080/"
        },
        "id": "e9z9RFQ9MuwL",
        "outputId": "3db236fb-24c3-43ac-e088-99574b37bcbe"
      },
      "source": [
        "twostep[0].select('td')"
      ],
      "execution_count": 125,
      "outputs": [
        {
          "output_type": "execute_result",
          "data": {
            "text/plain": [
              "[<td align=\"center \"><span class=\"date \">2019.10.23</span></td>,\n",
              " <td class=\"num \"><span>6,650</span></td>,\n",
              " <td class=\"num \">\n",
              " <img alt=\"상승 \" height=\"6 \" src=\"ico_up.gif \" style=\"margin-right:4px; \" width=\"7 \"/><span>\n",
              "                             20\n",
              "                         </span>\n",
              " </td>,\n",
              " <td class=\"num \"><span>6,590</span></td>,\n",
              " <td class=\"num \"><span>6,830</span></td>,\n",
              " <td class=\"num \"><span>6,580</span></td>,\n",
              " <td class=\"num \"><span>398,421</span></td>]"
            ]
          },
          "metadata": {
            "tags": []
          },
          "execution_count": 125
        }
      ]
    },
    {
      "cell_type": "markdown",
      "metadata": {
        "id": "qWUGFN4hZmm6"
      },
      "source": [
        "이 중에서 우리는 날짜와 종가를 가져오고 싶다. 날자는 0번째 종가는 1번째이다."
      ]
    },
    {
      "cell_type": "code",
      "metadata": {
        "colab": {
          "base_uri": "https://localhost:8080/",
          "height": 35
        },
        "id": "NUbaaV6_-_7k",
        "outputId": "74669177-6f01-41a1-b978-5717f5d1b1bd"
      },
      "source": [
        "twostep[0].select('td')[0].text #날짜"
      ],
      "execution_count": 126,
      "outputs": [
        {
          "output_type": "execute_result",
          "data": {
            "application/vnd.google.colaboratory.intrinsic+json": {
              "type": "string"
            },
            "text/plain": [
              "'2019.10.23'"
            ]
          },
          "metadata": {
            "tags": []
          },
          "execution_count": 126
        }
      ]
    },
    {
      "cell_type": "code",
      "metadata": {
        "colab": {
          "base_uri": "https://localhost:8080/",
          "height": 35
        },
        "id": "UCjXXZzrZmMT",
        "outputId": "3edb100b-09ab-4e54-b01a-2d6bb570c854"
      },
      "source": [
        "twostep[0].select('td')[1].text #종가\r\n",
        "\r\n",
        "# 숫자를 무언가 분석하기 위해서 ,을 공백으로 바꾸고 이후 int로 변환해야한다."
      ],
      "execution_count": 127,
      "outputs": [
        {
          "output_type": "execute_result",
          "data": {
            "application/vnd.google.colaboratory.intrinsic+json": {
              "type": "string"
            },
            "text/plain": [
              "'6,650'"
            ]
          },
          "metadata": {
            "tags": []
          },
          "execution_count": 127
        }
      ]
    },
    {
      "cell_type": "code",
      "metadata": {
        "id": "gWN51rqQZmEy"
      },
      "source": [
        "날짜 = []\r\n",
        "종가 = []\r\n",
        "\r\n",
        "for i in twostep:\r\n",
        "    날짜.append(i.select('td')[0].text)\r\n",
        "    종가.append(int(i.select('td')[1].text.replace(',','')))"
      ],
      "execution_count": 131,
      "outputs": []
    },
    {
      "cell_type": "code",
      "metadata": {
        "colab": {
          "base_uri": "https://localhost:8080/"
        },
        "id": "fP0Y57wfZmCu",
        "outputId": "6d7b0e38-c075-493d-8eac-0ab44408c3f0"
      },
      "source": [
        "날짜"
      ],
      "execution_count": 132,
      "outputs": [
        {
          "output_type": "execute_result",
          "data": {
            "text/plain": [
              "['2019.10.23',\n",
              " '2019.10.22',\n",
              " '2019.10.21',\n",
              " '2019.10.18',\n",
              " '2019.10.17',\n",
              " '2019.10.16',\n",
              " '2019.10.15',\n",
              " '2019.10.14',\n",
              " '2019.10.11',\n",
              " '2019.10.10',\n",
              " '2019.10.08',\n",
              " '2019.10.07',\n",
              " '2019.10.04',\n",
              " '2019.10.02',\n",
              " '2019.10.01',\n",
              " '2019.09.30',\n",
              " '2019.09.27',\n",
              " '2019.09.26',\n",
              " '2019.09.25',\n",
              " '2019.09.24']"
            ]
          },
          "metadata": {
            "tags": []
          },
          "execution_count": 132
        }
      ]
    },
    {
      "cell_type": "code",
      "metadata": {
        "colab": {
          "base_uri": "https://localhost:8080/"
        },
        "id": "EwanNY-ZZmAv",
        "outputId": "3f9be09b-916c-4bf7-ecae-d06e30319e63"
      },
      "source": [
        "종가"
      ],
      "execution_count": 133,
      "outputs": [
        {
          "output_type": "execute_result",
          "data": {
            "text/plain": [
              "[6650,\n",
              " 6630,\n",
              " 6820,\n",
              " 6430,\n",
              " 5950,\n",
              " 5930,\n",
              " 5640,\n",
              " 5380,\n",
              " 5040,\n",
              " 5100,\n",
              " 5050,\n",
              " 4940,\n",
              " 5010,\n",
              " 4920,\n",
              " 5010,\n",
              " 5000,\n",
              " 5010,\n",
              " 5060,\n",
              " 5060,\n",
              " 5330]"
            ]
          },
          "metadata": {
            "tags": []
          },
          "execution_count": 133
        }
      ]
    },
    {
      "cell_type": "code",
      "metadata": {
        "colab": {
          "base_uri": "https://localhost:8080/",
          "height": 542
        },
        "id": "f-3cMC9oZl8y",
        "outputId": "0b13afc0-18c0-49a0-ac1f-37f292d8ad44"
      },
      "source": [
        "import plotly.express as px\r\n",
        "\r\n",
        "fig = px.line(x=날짜, y=종가,title='jejucodingcamp')\r\n",
        "fig.show()"
      ],
      "execution_count": 135,
      "outputs": [
        {
          "output_type": "display_data",
          "data": {
            "text/html": [
              "<html>\n",
              "<head><meta charset=\"utf-8\" /></head>\n",
              "<body>\n",
              "    <div>\n",
              "            <script src=\"https://cdnjs.cloudflare.com/ajax/libs/mathjax/2.7.5/MathJax.js?config=TeX-AMS-MML_SVG\"></script><script type=\"text/javascript\">if (window.MathJax) {MathJax.Hub.Config({SVG: {font: \"STIX-Web\"}});}</script>\n",
              "                <script type=\"text/javascript\">window.PlotlyConfig = {MathJaxConfig: 'local'};</script>\n",
              "        <script src=\"https://cdn.plot.ly/plotly-latest.min.js\"></script>    \n",
              "            <div id=\"966bd46b-46b6-45bb-b8c1-650650b6041a\" class=\"plotly-graph-div\" style=\"height:525px; width:100%;\"></div>\n",
              "            <script type=\"text/javascript\">\n",
              "                \n",
              "                    window.PLOTLYENV=window.PLOTLYENV || {};\n",
              "                    \n",
              "                if (document.getElementById(\"966bd46b-46b6-45bb-b8c1-650650b6041a\")) {\n",
              "                    Plotly.newPlot(\n",
              "                        '966bd46b-46b6-45bb-b8c1-650650b6041a',\n",
              "                        [{\"hoverlabel\": {\"namelength\": 0}, \"hovertemplate\": \"x=%{x}<br>y=%{y}\", \"legendgroup\": \"\", \"line\": {\"color\": \"#636efa\", \"dash\": \"solid\"}, \"mode\": \"lines\", \"name\": \"\", \"showlegend\": false, \"type\": \"scatter\", \"x\": [\"2019.10.23\", \"2019.10.22\", \"2019.10.21\", \"2019.10.18\", \"2019.10.17\", \"2019.10.16\", \"2019.10.15\", \"2019.10.14\", \"2019.10.11\", \"2019.10.10\", \"2019.10.08\", \"2019.10.07\", \"2019.10.04\", \"2019.10.02\", \"2019.10.01\", \"2019.09.30\", \"2019.09.27\", \"2019.09.26\", \"2019.09.25\", \"2019.09.24\"], \"xaxis\": \"x\", \"y\": [6650, 6630, 6820, 6430, 5950, 5930, 5640, 5380, 5040, 5100, 5050, 4940, 5010, 4920, 5010, 5000, 5010, 5060, 5060, 5330], \"yaxis\": \"y\"}],\n",
              "                        {\"legend\": {\"tracegroupgap\": 0}, \"template\": {\"data\": {\"bar\": [{\"error_x\": {\"color\": \"#2a3f5f\"}, \"error_y\": {\"color\": \"#2a3f5f\"}, \"marker\": {\"line\": {\"color\": \"#E5ECF6\", \"width\": 0.5}}, \"type\": \"bar\"}], \"barpolar\": [{\"marker\": {\"line\": {\"color\": \"#E5ECF6\", \"width\": 0.5}}, \"type\": \"barpolar\"}], \"carpet\": [{\"aaxis\": {\"endlinecolor\": \"#2a3f5f\", \"gridcolor\": \"white\", \"linecolor\": \"white\", \"minorgridcolor\": \"white\", \"startlinecolor\": \"#2a3f5f\"}, \"baxis\": {\"endlinecolor\": \"#2a3f5f\", \"gridcolor\": \"white\", \"linecolor\": \"white\", \"minorgridcolor\": \"white\", \"startlinecolor\": \"#2a3f5f\"}, \"type\": \"carpet\"}], \"choropleth\": [{\"colorbar\": {\"outlinewidth\": 0, \"ticks\": \"\"}, \"type\": \"choropleth\"}], \"contour\": [{\"colorbar\": {\"outlinewidth\": 0, \"ticks\": \"\"}, \"colorscale\": [[0.0, \"#0d0887\"], [0.1111111111111111, \"#46039f\"], [0.2222222222222222, \"#7201a8\"], [0.3333333333333333, \"#9c179e\"], [0.4444444444444444, \"#bd3786\"], [0.5555555555555556, \"#d8576b\"], [0.6666666666666666, \"#ed7953\"], [0.7777777777777778, \"#fb9f3a\"], [0.8888888888888888, \"#fdca26\"], [1.0, \"#f0f921\"]], \"type\": \"contour\"}], \"contourcarpet\": [{\"colorbar\": {\"outlinewidth\": 0, \"ticks\": \"\"}, \"type\": \"contourcarpet\"}], \"heatmap\": [{\"colorbar\": {\"outlinewidth\": 0, \"ticks\": \"\"}, \"colorscale\": [[0.0, \"#0d0887\"], [0.1111111111111111, \"#46039f\"], [0.2222222222222222, \"#7201a8\"], [0.3333333333333333, \"#9c179e\"], [0.4444444444444444, \"#bd3786\"], [0.5555555555555556, \"#d8576b\"], [0.6666666666666666, \"#ed7953\"], [0.7777777777777778, \"#fb9f3a\"], [0.8888888888888888, \"#fdca26\"], [1.0, \"#f0f921\"]], \"type\": \"heatmap\"}], \"heatmapgl\": [{\"colorbar\": {\"outlinewidth\": 0, \"ticks\": \"\"}, \"colorscale\": [[0.0, \"#0d0887\"], [0.1111111111111111, \"#46039f\"], [0.2222222222222222, \"#7201a8\"], [0.3333333333333333, \"#9c179e\"], [0.4444444444444444, \"#bd3786\"], [0.5555555555555556, \"#d8576b\"], [0.6666666666666666, \"#ed7953\"], [0.7777777777777778, \"#fb9f3a\"], [0.8888888888888888, \"#fdca26\"], [1.0, \"#f0f921\"]], \"type\": \"heatmapgl\"}], \"histogram\": [{\"marker\": {\"colorbar\": {\"outlinewidth\": 0, \"ticks\": \"\"}}, \"type\": \"histogram\"}], \"histogram2d\": [{\"colorbar\": {\"outlinewidth\": 0, \"ticks\": \"\"}, \"colorscale\": [[0.0, \"#0d0887\"], [0.1111111111111111, \"#46039f\"], [0.2222222222222222, \"#7201a8\"], [0.3333333333333333, \"#9c179e\"], [0.4444444444444444, \"#bd3786\"], [0.5555555555555556, \"#d8576b\"], [0.6666666666666666, \"#ed7953\"], [0.7777777777777778, \"#fb9f3a\"], [0.8888888888888888, \"#fdca26\"], [1.0, \"#f0f921\"]], \"type\": \"histogram2d\"}], \"histogram2dcontour\": [{\"colorbar\": {\"outlinewidth\": 0, \"ticks\": \"\"}, \"colorscale\": [[0.0, \"#0d0887\"], [0.1111111111111111, \"#46039f\"], [0.2222222222222222, \"#7201a8\"], [0.3333333333333333, \"#9c179e\"], [0.4444444444444444, \"#bd3786\"], [0.5555555555555556, \"#d8576b\"], [0.6666666666666666, \"#ed7953\"], [0.7777777777777778, \"#fb9f3a\"], [0.8888888888888888, \"#fdca26\"], [1.0, \"#f0f921\"]], \"type\": \"histogram2dcontour\"}], \"mesh3d\": [{\"colorbar\": {\"outlinewidth\": 0, \"ticks\": \"\"}, \"type\": \"mesh3d\"}], \"parcoords\": [{\"line\": {\"colorbar\": {\"outlinewidth\": 0, \"ticks\": \"\"}}, \"type\": \"parcoords\"}], \"pie\": [{\"automargin\": true, \"type\": \"pie\"}], \"scatter\": [{\"marker\": {\"colorbar\": {\"outlinewidth\": 0, \"ticks\": \"\"}}, \"type\": \"scatter\"}], \"scatter3d\": [{\"line\": {\"colorbar\": {\"outlinewidth\": 0, \"ticks\": \"\"}}, \"marker\": {\"colorbar\": {\"outlinewidth\": 0, \"ticks\": \"\"}}, \"type\": \"scatter3d\"}], \"scattercarpet\": [{\"marker\": {\"colorbar\": {\"outlinewidth\": 0, \"ticks\": \"\"}}, \"type\": \"scattercarpet\"}], \"scattergeo\": [{\"marker\": {\"colorbar\": {\"outlinewidth\": 0, \"ticks\": \"\"}}, \"type\": \"scattergeo\"}], \"scattergl\": [{\"marker\": {\"colorbar\": {\"outlinewidth\": 0, \"ticks\": \"\"}}, \"type\": \"scattergl\"}], \"scattermapbox\": [{\"marker\": {\"colorbar\": {\"outlinewidth\": 0, \"ticks\": \"\"}}, \"type\": \"scattermapbox\"}], \"scatterpolar\": [{\"marker\": {\"colorbar\": {\"outlinewidth\": 0, \"ticks\": \"\"}}, \"type\": \"scatterpolar\"}], \"scatterpolargl\": [{\"marker\": {\"colorbar\": {\"outlinewidth\": 0, \"ticks\": \"\"}}, \"type\": \"scatterpolargl\"}], \"scatterternary\": [{\"marker\": {\"colorbar\": {\"outlinewidth\": 0, \"ticks\": \"\"}}, \"type\": \"scatterternary\"}], \"surface\": [{\"colorbar\": {\"outlinewidth\": 0, \"ticks\": \"\"}, \"colorscale\": [[0.0, \"#0d0887\"], [0.1111111111111111, \"#46039f\"], [0.2222222222222222, \"#7201a8\"], [0.3333333333333333, \"#9c179e\"], [0.4444444444444444, \"#bd3786\"], [0.5555555555555556, \"#d8576b\"], [0.6666666666666666, \"#ed7953\"], [0.7777777777777778, \"#fb9f3a\"], [0.8888888888888888, \"#fdca26\"], [1.0, \"#f0f921\"]], \"type\": \"surface\"}], \"table\": [{\"cells\": {\"fill\": {\"color\": \"#EBF0F8\"}, \"line\": {\"color\": \"white\"}}, \"header\": {\"fill\": {\"color\": \"#C8D4E3\"}, \"line\": {\"color\": \"white\"}}, \"type\": \"table\"}]}, \"layout\": {\"annotationdefaults\": {\"arrowcolor\": \"#2a3f5f\", \"arrowhead\": 0, \"arrowwidth\": 1}, \"coloraxis\": {\"colorbar\": {\"outlinewidth\": 0, \"ticks\": \"\"}}, \"colorscale\": {\"diverging\": [[0, \"#8e0152\"], [0.1, \"#c51b7d\"], [0.2, \"#de77ae\"], [0.3, \"#f1b6da\"], [0.4, \"#fde0ef\"], [0.5, \"#f7f7f7\"], [0.6, \"#e6f5d0\"], [0.7, \"#b8e186\"], [0.8, \"#7fbc41\"], [0.9, \"#4d9221\"], [1, \"#276419\"]], \"sequential\": [[0.0, \"#0d0887\"], [0.1111111111111111, \"#46039f\"], [0.2222222222222222, \"#7201a8\"], [0.3333333333333333, \"#9c179e\"], [0.4444444444444444, \"#bd3786\"], [0.5555555555555556, \"#d8576b\"], [0.6666666666666666, \"#ed7953\"], [0.7777777777777778, \"#fb9f3a\"], [0.8888888888888888, \"#fdca26\"], [1.0, \"#f0f921\"]], \"sequentialminus\": [[0.0, \"#0d0887\"], [0.1111111111111111, \"#46039f\"], [0.2222222222222222, \"#7201a8\"], [0.3333333333333333, \"#9c179e\"], [0.4444444444444444, \"#bd3786\"], [0.5555555555555556, \"#d8576b\"], [0.6666666666666666, \"#ed7953\"], [0.7777777777777778, \"#fb9f3a\"], [0.8888888888888888, \"#fdca26\"], [1.0, \"#f0f921\"]]}, \"colorway\": [\"#636efa\", \"#EF553B\", \"#00cc96\", \"#ab63fa\", \"#FFA15A\", \"#19d3f3\", \"#FF6692\", \"#B6E880\", \"#FF97FF\", \"#FECB52\"], \"font\": {\"color\": \"#2a3f5f\"}, \"geo\": {\"bgcolor\": \"white\", \"lakecolor\": \"white\", \"landcolor\": \"#E5ECF6\", \"showlakes\": true, \"showland\": true, \"subunitcolor\": \"white\"}, \"hoverlabel\": {\"align\": \"left\"}, \"hovermode\": \"closest\", \"mapbox\": {\"style\": \"light\"}, \"paper_bgcolor\": \"white\", \"plot_bgcolor\": \"#E5ECF6\", \"polar\": {\"angularaxis\": {\"gridcolor\": \"white\", \"linecolor\": \"white\", \"ticks\": \"\"}, \"bgcolor\": \"#E5ECF6\", \"radialaxis\": {\"gridcolor\": \"white\", \"linecolor\": \"white\", \"ticks\": \"\"}}, \"scene\": {\"xaxis\": {\"backgroundcolor\": \"#E5ECF6\", \"gridcolor\": \"white\", \"gridwidth\": 2, \"linecolor\": \"white\", \"showbackground\": true, \"ticks\": \"\", \"zerolinecolor\": \"white\"}, \"yaxis\": {\"backgroundcolor\": \"#E5ECF6\", \"gridcolor\": \"white\", \"gridwidth\": 2, \"linecolor\": \"white\", \"showbackground\": true, \"ticks\": \"\", \"zerolinecolor\": \"white\"}, \"zaxis\": {\"backgroundcolor\": \"#E5ECF6\", \"gridcolor\": \"white\", \"gridwidth\": 2, \"linecolor\": \"white\", \"showbackground\": true, \"ticks\": \"\", \"zerolinecolor\": \"white\"}}, \"shapedefaults\": {\"line\": {\"color\": \"#2a3f5f\"}}, \"ternary\": {\"aaxis\": {\"gridcolor\": \"white\", \"linecolor\": \"white\", \"ticks\": \"\"}, \"baxis\": {\"gridcolor\": \"white\", \"linecolor\": \"white\", \"ticks\": \"\"}, \"bgcolor\": \"#E5ECF6\", \"caxis\": {\"gridcolor\": \"white\", \"linecolor\": \"white\", \"ticks\": \"\"}}, \"title\": {\"x\": 0.05}, \"xaxis\": {\"automargin\": true, \"gridcolor\": \"white\", \"linecolor\": \"white\", \"ticks\": \"\", \"title\": {\"standoff\": 15}, \"zerolinecolor\": \"white\", \"zerolinewidth\": 2}, \"yaxis\": {\"automargin\": true, \"gridcolor\": \"white\", \"linecolor\": \"white\", \"ticks\": \"\", \"title\": {\"standoff\": 15}, \"zerolinecolor\": \"white\", \"zerolinewidth\": 2}}}, \"title\": {\"text\": \"jejucodingcamp\"}, \"xaxis\": {\"anchor\": \"y\", \"domain\": [0.0, 1.0], \"title\": {\"text\": \"x\"}}, \"yaxis\": {\"anchor\": \"x\", \"domain\": [0.0, 1.0], \"title\": {\"text\": \"y\"}}},\n",
              "                        {\"responsive\": true}\n",
              "                    ).then(function(){\n",
              "                            \n",
              "var gd = document.getElementById('966bd46b-46b6-45bb-b8c1-650650b6041a');\n",
              "var x = new MutationObserver(function (mutations, observer) {{\n",
              "        var display = window.getComputedStyle(gd).display;\n",
              "        if (!display || display === 'none') {{\n",
              "            console.log([gd, 'removed!']);\n",
              "            Plotly.purge(gd);\n",
              "            observer.disconnect();\n",
              "        }}\n",
              "}});\n",
              "\n",
              "// Listen for the removal of the full notebook cells\n",
              "var notebookContainer = gd.closest('#notebook-container');\n",
              "if (notebookContainer) {{\n",
              "    x.observe(notebookContainer, {childList: true});\n",
              "}}\n",
              "\n",
              "// Listen for the clearing of the current output cell\n",
              "var outputEl = gd.closest('.output');\n",
              "if (outputEl) {{\n",
              "    x.observe(outputEl, {childList: true});\n",
              "}}\n",
              "\n",
              "                        })\n",
              "                };\n",
              "                \n",
              "            </script>\n",
              "        </div>\n",
              "</body>\n",
              "</html>"
            ]
          },
          "metadata": {
            "tags": []
          }
        }
      ]
    },
    {
      "cell_type": "markdown",
      "metadata": {
        "id": "LETuNbDDbu_u"
      },
      "source": [
        "# 1번 연습문제\r\n",
        "http://paullab.synology.me/stock.html\r\n",
        "1. 문제 1 : 각 회사별로 1만주씩 있다 가정 시, 전 그룹사 시가총액을 구하시오.\r\n",
        "2. 문제 2 : 전그룹사 시가총액 추이를 그래프로 그려라. (x축 날짜, y축 총액)"
      ]
    },
    {
      "cell_type": "code",
      "metadata": {
        "id": "GXkOMYKzbwlp"
      },
      "source": [
        "import requests\r\n",
        "from bs4 import BeautifulSoup\r\n",
        "\r\n",
        "response = requests.get(\"http://paullab.synology.me/stock.html\")\r\n",
        "response.encoding = 'utf-8'\r\n",
        "\r\n",
        "html=response.text\r\n",
        "soup = BeautifulSoup(html, 'html.parser')"
      ],
      "execution_count": 136,
      "outputs": []
    },
    {
      "cell_type": "markdown",
      "metadata": {
        "id": "yrNjZLK6crZk"
      },
      "source": [
        "개발자 도구로 확인 결과 제목은 `id`이며 상위 클래스는 `main`이다.\r\n",
        "\r\n",
        "`main`안에는 `table` 클래스가 그 안에는 `tbody` 그리고 `tr`이 그 안에 `td`가 있는 형태이다."
      ]
    },
    {
      "cell_type": "code",
      "metadata": {
        "id": "DUveuLrLbwjq"
      },
      "source": [
        "soup.select('.main')[2]"
      ],
      "execution_count": null,
      "outputs": []
    },
    {
      "cell_type": "code",
      "metadata": {
        "colab": {
          "base_uri": "https://localhost:8080/"
        },
        "id": "Rs1EbQgFbwho",
        "outputId": "7f3d1325-c649-4e7a-f53c-355a61494191"
      },
      "source": [
        "그룹사별일일시가 = soup.select('.main')[2:]\r\n",
        "\r\n",
        "최신시가 = []\r\n",
        "최신시가총액 = []\r\n",
        "\r\n",
        "for i in 그룹사별일일시가:\r\n",
        "    최신시가.append(int(i.select('.table > tbody > tr')[1].select('td ')[3].select(\r\n",
        "        'span')[0].text.replace(',','')))\r\n",
        "    \r\n",
        "최신시가"
      ],
      "execution_count": 161,
      "outputs": [
        {
          "output_type": "execute_result",
          "data": {
            "text/plain": [
              "[6590, 31150, 13400, 2055]"
            ]
          },
          "metadata": {
            "tags": []
          },
          "execution_count": 161
        }
      ]
    },
    {
      "cell_type": "code",
      "metadata": {
        "colab": {
          "base_uri": "https://localhost:8080/"
        },
        "id": "DcTtUORKgqL7",
        "outputId": "247b507c-94fd-45fa-a991-6d1e238d5841"
      },
      "source": [
        "최신시가총액 = [i*10000 for i in 최신시가]\r\n",
        "최신시가총액"
      ],
      "execution_count": 166,
      "outputs": [
        {
          "output_type": "execute_result",
          "data": {
            "text/plain": [
              "[65900000, 311500000, 134000000, 20550000]"
            ]
          },
          "metadata": {
            "tags": []
          },
          "execution_count": 166
        }
      ]
    },
    {
      "cell_type": "code",
      "metadata": {
        "colab": {
          "base_uri": "https://localhost:8080/",
          "height": 35
        },
        "id": "oZCcL-D-e8Zt",
        "outputId": "901a0882-c9ff-4f86-baf9-7812d7723615"
      },
      "source": [
        "전그룹사시가총액=format(sum(최신시가총액),',')\r\n",
        "전그룹사시가총액"
      ],
      "execution_count": 168,
      "outputs": [
        {
          "output_type": "execute_result",
          "data": {
            "application/vnd.google.colaboratory.intrinsic+json": {
              "type": "string"
            },
            "text/plain": [
              "'531,950,000'"
            ]
          },
          "metadata": {
            "tags": []
          },
          "execution_count": 168
        }
      ]
    },
    {
      "cell_type": "markdown",
      "metadata": {
        "id": "FTKsuun8hR3p"
      },
      "source": [
        "이로서 전그룹사의 가장 최신 시가총액을 구하였다."
      ]
    },
    {
      "cell_type": "code",
      "metadata": {
        "id": "pp-uGEIChYEE"
      },
      "source": [
        "시가총액 = []\r\n",
        "for i in range(1,len(soup.select('.main')[2].select(\r\n",
        "    '.table > tbody > tr'))):\r\n",
        "    최신시가 = []\r\n",
        "    for j in 그룹사별일일시가:\r\n",
        "        최신시가.append(int(j.select('.table > tbody > tr')[i].select(\r\n",
        "            'td ')[3].select('span')[0].text.replace(',','')))\r\n",
        "    시가총액.append(sum(최신시가))\r\n",
        "\r\n",
        "시가총액 = [i*10000 for i in 시가총액]"
      ],
      "execution_count": 185,
      "outputs": []
    },
    {
      "cell_type": "code",
      "metadata": {
        "colab": {
          "base_uri": "https://localhost:8080/"
        },
        "id": "kfOagxMBoEgn",
        "outputId": "08863547-b52e-4676-ed2e-bcaf78c5c3c0"
      },
      "source": [
        "날짜=soup.select('.main')[2].select('.table > tbody > tr > td > .date')\r\n",
        "날짜"
      ],
      "execution_count": 182,
      "outputs": [
        {
          "output_type": "execute_result",
          "data": {
            "text/plain": [
              "[<span class=\"date \">2019.10.23</span>,\n",
              " <span class=\"date\">2019.10.22</span>,\n",
              " <span class=\"date\">2019.10.21</span>,\n",
              " <span class=\"date\">2019.10.18</span>,\n",
              " <span class=\"date\">2019.10.17</span>,\n",
              " <span class=\"date\">2019.10.16</span>,\n",
              " <span class=\"date\">2019.10.15</span>,\n",
              " <span class=\"date\">2019.10.14</span>,\n",
              " <span class=\"date\">2019.10.11</span>,\n",
              " <span class=\"date\">2019.10.10</span>,\n",
              " <span class=\"date\">2019.10.08</span>,\n",
              " <span class=\"date\">2019.10.07</span>,\n",
              " <span class=\"date\">2019.10.04</span>,\n",
              " <span class=\"date\">2019.10.02</span>,\n",
              " <span class=\"date\">2019.10.01</span>,\n",
              " <span class=\"date\">2019.09.30</span>,\n",
              " <span class=\"date\">2019.09.27</span>,\n",
              " <span class=\"date\">2019.09.26</span>,\n",
              " <span class=\"date\">2019.09.25</span>,\n",
              " <span class=\"date\">2019.09.24</span>]"
            ]
          },
          "metadata": {
            "tags": []
          },
          "execution_count": 182
        }
      ]
    },
    {
      "cell_type": "code",
      "metadata": {
        "colab": {
          "base_uri": "https://localhost:8080/"
        },
        "id": "Qj_4TAdTot5E",
        "outputId": "47727c8f-436d-4c69-9cc5-71dbb7ebfde1"
      },
      "source": [
        "date = []\r\n",
        "for i in 날짜:\r\n",
        "    date.append(i.text)\r\n",
        "date"
      ],
      "execution_count": 183,
      "outputs": [
        {
          "output_type": "execute_result",
          "data": {
            "text/plain": [
              "['2019.10.23',\n",
              " '2019.10.22',\n",
              " '2019.10.21',\n",
              " '2019.10.18',\n",
              " '2019.10.17',\n",
              " '2019.10.16',\n",
              " '2019.10.15',\n",
              " '2019.10.14',\n",
              " '2019.10.11',\n",
              " '2019.10.10',\n",
              " '2019.10.08',\n",
              " '2019.10.07',\n",
              " '2019.10.04',\n",
              " '2019.10.02',\n",
              " '2019.10.01',\n",
              " '2019.09.30',\n",
              " '2019.09.27',\n",
              " '2019.09.26',\n",
              " '2019.09.25',\n",
              " '2019.09.24']"
            ]
          },
          "metadata": {
            "tags": []
          },
          "execution_count": 183
        }
      ]
    },
    {
      "cell_type": "code",
      "metadata": {
        "colab": {
          "base_uri": "https://localhost:8080/",
          "height": 314
        },
        "id": "cDBv0v4lot1l",
        "outputId": "6446b36f-4d8f-4f39-e71b-237d3c74134d"
      },
      "source": [
        "%matplotlib inline\r\n",
        "import matplotlib.pyplot as plt\r\n",
        "\r\n",
        "#현재 데이터가 날짜가 빠른순으로 되어있기에 이를 뒤집어줘야 날짜순이 된다.\r\n",
        "plt.plot(date[::-1],시가총액[::-1]) #날짜 및 시가 뒤집기\r\n",
        "plt.xticks(rotation=45)\r\n",
        "plt.show()"
      ],
      "execution_count": 186,
      "outputs": [
        {
          "output_type": "display_data",
          "data": {
            "image/png": "[encoded data removed]",
            "text/plain": [
              "<Figure size 432x288 with 1 Axes>"
            ]
          },
          "metadata": {
            "tags": [],
            "needs_background": "light"
          }
        }
      ]
    },
    {
      "cell_type": "markdown",
      "metadata": {
        "id": "-tWblr15bwHb"
      },
      "source": [
        "# 2번 연습문제\r\n",
        "\r\n",
        "* 각 그룹사별 거래량을 그래프로 그려라.(범례 포함)\r\n",
        "* 전체 그룹사 총량을 아래와 같이 표시해라."
      ]
    },
    {
      "cell_type": "code",
      "metadata": {
        "colab": {
          "base_uri": "https://localhost:8080/"
        },
        "id": "YHT12HE9bOwc",
        "outputId": "f55faa9e-b474-4146-e6cb-55f89d44f635"
      },
      "source": [
        "date = []\r\n",
        "for i in 날짜:\r\n",
        "    date.append(i.text)\r\n",
        "date"
      ],
      "execution_count": 188,
      "outputs": [
        {
          "output_type": "execute_result",
          "data": {
            "text/plain": [
              "['2019.10.23',\n",
              " '2019.10.22',\n",
              " '2019.10.21',\n",
              " '2019.10.18',\n",
              " '2019.10.17',\n",
              " '2019.10.16',\n",
              " '2019.10.15',\n",
              " '2019.10.14',\n",
              " '2019.10.11',\n",
              " '2019.10.10',\n",
              " '2019.10.08',\n",
              " '2019.10.07',\n",
              " '2019.10.04',\n",
              " '2019.10.02',\n",
              " '2019.10.01',\n",
              " '2019.09.30',\n",
              " '2019.09.27',\n",
              " '2019.09.26',\n",
              " '2019.09.25',\n",
              " '2019.09.24']"
            ]
          },
          "metadata": {
            "tags": []
          },
          "execution_count": 188
        }
      ]
    },
    {
      "cell_type": "code",
      "metadata": {
        "id": "H3aWHCgJvNJf"
      },
      "source": [
        "A거래량 = soup.select('.main')[2]\r\n",
        "B거래량 = soup.select('.main')[3]\r\n",
        "C거래량 = soup.select('.main')[4]\r\n",
        "D거래량 = soup.select('.main')[5]"
      ],
      "execution_count": 210,
      "outputs": []
    },
    {
      "cell_type": "code",
      "metadata": {
        "colab": {
          "base_uri": "https://localhost:8080/"
        },
        "id": "FSHrBNPZx6qe",
        "outputId": "4b51e521-ac35-415f-f101-3a656bfe2ac1"
      },
      "source": [
        "len(soup.select('.main')[2].select(\r\n",
        "    '.table > tbody > tr'))"
      ],
      "execution_count": 211,
      "outputs": [
        {
          "output_type": "execute_result",
          "data": {
            "text/plain": [
              "21"
            ]
          },
          "metadata": {
            "tags": []
          },
          "execution_count": 211
        }
      ]
    },
    {
      "cell_type": "code",
      "metadata": {
        "colab": {
          "base_uri": "https://localhost:8080/",
          "height": 35
        },
        "id": "t7_5gJgzwFBB",
        "outputId": "58ba83f3-3605-4040-f0fb-7d40e01d6197"
      },
      "source": [
        "A거래량.select('.table > tbody > tr')[1].select(\r\n",
        "            'td ')[6].select('span')[0].text.replace(',','')"
      ],
      "execution_count": 212,
      "outputs": [
        {
          "output_type": "execute_result",
          "data": {
            "application/vnd.google.colaboratory.intrinsic+json": {
              "type": "string"
            },
            "text/plain": [
              "'398421'"
            ]
          },
          "metadata": {
            "tags": []
          },
          "execution_count": 212
        }
      ]
    },
    {
      "cell_type": "code",
      "metadata": {
        "colab": {
          "base_uri": "https://localhost:8080/",
          "height": 35
        },
        "id": "BZy3MfyRyMfV",
        "outputId": "6fee0735-4988-460e-ae3d-4ba48dda8926"
      },
      "source": [
        "A거래량.select('.table > tbody > tr')[i].select(\r\n",
        "            'td ')[6].select('span')[0].text"
      ],
      "execution_count": 218,
      "outputs": [
        {
          "output_type": "execute_result",
          "data": {
            "application/vnd.google.colaboratory.intrinsic+json": {
              "type": "string"
            },
            "text/plain": [
              "'398,421'"
            ]
          },
          "metadata": {
            "tags": []
          },
          "execution_count": 218
        }
      ]
    },
    {
      "cell_type": "code",
      "metadata": {
        "id": "On2mKZGoyeD8"
      },
      "source": [
        "A거래량"
      ],
      "execution_count": null,
      "outputs": []
    },
    {
      "cell_type": "code",
      "metadata": {
        "colab": {
          "base_uri": "https://localhost:8080/"
        },
        "id": "iRZX-W1Ot-9n",
        "outputId": "317fcd3a-2e29-4539-8a07-f58b213c823b"
      },
      "source": [
        "A = []\r\n",
        "for i in range(1,len(soup.select('.main')[2].select(\r\n",
        "    '.table > tbody > tr'))):\r\n",
        "    거래량 = int(A거래량.select('.table > tbody > tr')[i].select(\r\n",
        "            'td ')[6].select('span')[0].text.replace(',',''))\r\n",
        "    \r\n",
        "    A.append(거래량)\r\n",
        "\r\n",
        "A"
      ],
      "execution_count": 230,
      "outputs": [
        {
          "output_type": "execute_result",
          "data": {
            "text/plain": [
              "[398421,\n",
              " 919571,\n",
              " 1678055,\n",
              " 2168857,\n",
              " 1982922,\n",
              " 839434,\n",
              " 702104,\n",
              " 764800,\n",
              " 134558,\n",
              " 288563,\n",
              " 223839,\n",
              " 199580,\n",
              " 188467,\n",
              " 160510,\n",
              " 246145,\n",
              " 705046,\n",
              " 408859,\n",
              " 404633,\n",
              " 441923,\n",
              " 211019]"
            ]
          },
          "metadata": {
            "tags": []
          },
          "execution_count": 230
        }
      ]
    },
    {
      "cell_type": "code",
      "metadata": {
        "colab": {
          "base_uri": "https://localhost:8080/"
        },
        "id": "LmBAVWPFze3P",
        "outputId": "d8335fab-a2d6-4dbe-f7af-9137baf629f3"
      },
      "source": [
        "\r\n",
        "for i in A:\r\n",
        "    누적 =[]\r\n",
        "    누적.append(sum(A))\r\n",
        "누적"
      ],
      "execution_count": 233,
      "outputs": [
        {
          "output_type": "execute_result",
          "data": {
            "text/plain": [
              "[13067306]"
            ]
          },
          "metadata": {
            "tags": []
          },
          "execution_count": 233
        }
      ]
    },
    {
      "cell_type": "code",
      "metadata": {
        "id": "_BlCGxjtug4e"
      },
      "source": [
        "B = []\r\n",
        "for i in range(1,len(soup.select('.main')[3].select(\r\n",
        "    '.table > tbody > tr'))):\r\n",
        "    거래량 = int(B거래량.select('.table > tbody > tr')[i].select(\r\n",
        "            'td ')[6].select('span')[0].text.replace(',',''))\r\n",
        "    \r\n",
        "    B.append(거래량)\r\n",
        "\r\n",
        "B = sum(B)"
      ],
      "execution_count": 225,
      "outputs": []
    },
    {
      "cell_type": "code",
      "metadata": {
        "id": "nDENeuW-ugkf"
      },
      "source": [
        "C = []\r\n",
        "for i in range(1,len(soup.select('.main')[4].select(\r\n",
        "    '.table > tbody > tr'))):\r\n",
        "    거래량 = int(C거래량.select('.table > tbody > tr')[i].select(\r\n",
        "            'td ')[6].select('span')[0].text.replace(',',''))\r\n",
        "    \r\n",
        "    C.append(거래량)\r\n",
        "\r\n",
        "C = sum(C)"
      ],
      "execution_count": 226,
      "outputs": []
    },
    {
      "cell_type": "code",
      "metadata": {
        "id": "J-wRT2bRugia"
      },
      "source": [
        "D = []\r\n",
        "for i in range(1,len(soup.select('.main')[5].select(\r\n",
        "    '.table > tbody > tr'))):\r\n",
        "    거래량 = int(D거래량.select('.table > tbody > tr')[i].select(\r\n",
        "            'td ')[6].select('span')[0].text.replace(',',''))\r\n",
        "    \r\n",
        "    D.append(거래량)\r\n",
        "\r\n",
        "D = sum(D)"
      ],
      "execution_count": 227,
      "outputs": []
    },
    {
      "cell_type": "code",
      "metadata": {
        "id": "zaiCn3yqugcM"
      },
      "source": [
        ""
      ],
      "execution_count": null,
      "outputs": []
    }
  ]
}